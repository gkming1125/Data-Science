{
  "nbformat": 4,
  "nbformat_minor": 0,
  "metadata": {
    "colab": {
      "provenance": [],
      "toc_visible": true
    },
    "kernelspec": {
      "name": "python3",
      "display_name": "Python 3"
    },
    "language_info": {
      "name": "python"
    }
  },
  "cells": [
    {
      "cell_type": "markdown",
      "source": [
        "# **Import libraries**"
      ],
      "metadata": {
        "id": "WSd5SrZUbrJA"
      }
    },
    {
      "cell_type": "code",
      "execution_count": null,
      "metadata": {
        "id": "cqD2b3x8biBj"
      },
      "outputs": [],
      "source": [
        "import pandas as pd\n",
        "import numpy as np\n",
        "import matplotlib.pyplot as plt\n",
        "import seaborn as sns\n",
        "from scipy.stats import skew, kurtosis\n",
        "import statsmodels.api as sm\n",
        "from scipy.stats import shapiro\n",
        "import scipy.stats as stats"
      ]
    },
    {
      "cell_type": "markdown",
      "source": [
        "# **1. Download dataset**"
      ],
      "metadata": {
        "id": "72b8EuVPbqcY"
      }
    },
    {
      "cell_type": "code",
      "source": [
        "from google.colab import files\n",
        "uploaded = files.upload()"
      ],
      "metadata": {
        "colab": {
          "base_uri": "https://localhost:8080/",
          "height": 73
        },
        "id": "jMM1Qpizc2ju",
        "outputId": "a0d2d822-7094-4f57-9c23-4a4cde006544"
      },
      "execution_count": null,
      "outputs": [
        {
          "output_type": "display_data",
          "data": {
            "text/plain": [
              "<IPython.core.display.HTML object>"
            ],
            "text/html": [
              "\n",
              "     <input type=\"file\" id=\"files-046ceb87-8645-4102-9e04-e6cdd785a90f\" name=\"files[]\" multiple disabled\n",
              "        style=\"border:none\" />\n",
              "     <output id=\"result-046ceb87-8645-4102-9e04-e6cdd785a90f\">\n",
              "      Upload widget is only available when the cell has been executed in the\n",
              "      current browser session. Please rerun this cell to enable.\n",
              "      </output>\n",
              "      <script>// Copyright 2017 Google LLC\n",
              "//\n",
              "// Licensed under the Apache License, Version 2.0 (the \"License\");\n",
              "// you may not use this file except in compliance with the License.\n",
              "// You may obtain a copy of the License at\n",
              "//\n",
              "//      http://www.apache.org/licenses/LICENSE-2.0\n",
              "//\n",
              "// Unless required by applicable law or agreed to in writing, software\n",
              "// distributed under the License is distributed on an \"AS IS\" BASIS,\n",
              "// WITHOUT WARRANTIES OR CONDITIONS OF ANY KIND, either express or implied.\n",
              "// See the License for the specific language governing permissions and\n",
              "// limitations under the License.\n",
              "\n",
              "/**\n",
              " * @fileoverview Helpers for google.colab Python module.\n",
              " */\n",
              "(function(scope) {\n",
              "function span(text, styleAttributes = {}) {\n",
              "  const element = document.createElement('span');\n",
              "  element.textContent = text;\n",
              "  for (const key of Object.keys(styleAttributes)) {\n",
              "    element.style[key] = styleAttributes[key];\n",
              "  }\n",
              "  return element;\n",
              "}\n",
              "\n",
              "// Max number of bytes which will be uploaded at a time.\n",
              "const MAX_PAYLOAD_SIZE = 100 * 1024;\n",
              "\n",
              "function _uploadFiles(inputId, outputId) {\n",
              "  const steps = uploadFilesStep(inputId, outputId);\n",
              "  const outputElement = document.getElementById(outputId);\n",
              "  // Cache steps on the outputElement to make it available for the next call\n",
              "  // to uploadFilesContinue from Python.\n",
              "  outputElement.steps = steps;\n",
              "\n",
              "  return _uploadFilesContinue(outputId);\n",
              "}\n",
              "\n",
              "// This is roughly an async generator (not supported in the browser yet),\n",
              "// where there are multiple asynchronous steps and the Python side is going\n",
              "// to poll for completion of each step.\n",
              "// This uses a Promise to block the python side on completion of each step,\n",
              "// then passes the result of the previous step as the input to the next step.\n",
              "function _uploadFilesContinue(outputId) {\n",
              "  const outputElement = document.getElementById(outputId);\n",
              "  const steps = outputElement.steps;\n",
              "\n",
              "  const next = steps.next(outputElement.lastPromiseValue);\n",
              "  return Promise.resolve(next.value.promise).then((value) => {\n",
              "    // Cache the last promise value to make it available to the next\n",
              "    // step of the generator.\n",
              "    outputElement.lastPromiseValue = value;\n",
              "    return next.value.response;\n",
              "  });\n",
              "}\n",
              "\n",
              "/**\n",
              " * Generator function which is called between each async step of the upload\n",
              " * process.\n",
              " * @param {string} inputId Element ID of the input file picker element.\n",
              " * @param {string} outputId Element ID of the output display.\n",
              " * @return {!Iterable<!Object>} Iterable of next steps.\n",
              " */\n",
              "function* uploadFilesStep(inputId, outputId) {\n",
              "  const inputElement = document.getElementById(inputId);\n",
              "  inputElement.disabled = false;\n",
              "\n",
              "  const outputElement = document.getElementById(outputId);\n",
              "  outputElement.innerHTML = '';\n",
              "\n",
              "  const pickedPromise = new Promise((resolve) => {\n",
              "    inputElement.addEventListener('change', (e) => {\n",
              "      resolve(e.target.files);\n",
              "    });\n",
              "  });\n",
              "\n",
              "  const cancel = document.createElement('button');\n",
              "  inputElement.parentElement.appendChild(cancel);\n",
              "  cancel.textContent = 'Cancel upload';\n",
              "  const cancelPromise = new Promise((resolve) => {\n",
              "    cancel.onclick = () => {\n",
              "      resolve(null);\n",
              "    };\n",
              "  });\n",
              "\n",
              "  // Wait for the user to pick the files.\n",
              "  const files = yield {\n",
              "    promise: Promise.race([pickedPromise, cancelPromise]),\n",
              "    response: {\n",
              "      action: 'starting',\n",
              "    }\n",
              "  };\n",
              "\n",
              "  cancel.remove();\n",
              "\n",
              "  // Disable the input element since further picks are not allowed.\n",
              "  inputElement.disabled = true;\n",
              "\n",
              "  if (!files) {\n",
              "    return {\n",
              "      response: {\n",
              "        action: 'complete',\n",
              "      }\n",
              "    };\n",
              "  }\n",
              "\n",
              "  for (const file of files) {\n",
              "    const li = document.createElement('li');\n",
              "    li.append(span(file.name, {fontWeight: 'bold'}));\n",
              "    li.append(span(\n",
              "        `(${file.type || 'n/a'}) - ${file.size} bytes, ` +\n",
              "        `last modified: ${\n",
              "            file.lastModifiedDate ? file.lastModifiedDate.toLocaleDateString() :\n",
              "                                    'n/a'} - `));\n",
              "    const percent = span('0% done');\n",
              "    li.appendChild(percent);\n",
              "\n",
              "    outputElement.appendChild(li);\n",
              "\n",
              "    const fileDataPromise = new Promise((resolve) => {\n",
              "      const reader = new FileReader();\n",
              "      reader.onload = (e) => {\n",
              "        resolve(e.target.result);\n",
              "      };\n",
              "      reader.readAsArrayBuffer(file);\n",
              "    });\n",
              "    // Wait for the data to be ready.\n",
              "    let fileData = yield {\n",
              "      promise: fileDataPromise,\n",
              "      response: {\n",
              "        action: 'continue',\n",
              "      }\n",
              "    };\n",
              "\n",
              "    // Use a chunked sending to avoid message size limits. See b/62115660.\n",
              "    let position = 0;\n",
              "    do {\n",
              "      const length = Math.min(fileData.byteLength - position, MAX_PAYLOAD_SIZE);\n",
              "      const chunk = new Uint8Array(fileData, position, length);\n",
              "      position += length;\n",
              "\n",
              "      const base64 = btoa(String.fromCharCode.apply(null, chunk));\n",
              "      yield {\n",
              "        response: {\n",
              "          action: 'append',\n",
              "          file: file.name,\n",
              "          data: base64,\n",
              "        },\n",
              "      };\n",
              "\n",
              "      let percentDone = fileData.byteLength === 0 ?\n",
              "          100 :\n",
              "          Math.round((position / fileData.byteLength) * 100);\n",
              "      percent.textContent = `${percentDone}% done`;\n",
              "\n",
              "    } while (position < fileData.byteLength);\n",
              "  }\n",
              "\n",
              "  // All done.\n",
              "  yield {\n",
              "    response: {\n",
              "      action: 'complete',\n",
              "    }\n",
              "  };\n",
              "}\n",
              "\n",
              "scope.google = scope.google || {};\n",
              "scope.google.colab = scope.google.colab || {};\n",
              "scope.google.colab._files = {\n",
              "  _uploadFiles,\n",
              "  _uploadFilesContinue,\n",
              "};\n",
              "})(self);\n",
              "</script> "
            ]
          },
          "metadata": {}
        },
        {
          "output_type": "stream",
          "name": "stdout",
          "text": [
            "Saving cartype.xls to cartype.xls\n"
          ]
        }
      ]
    },
    {
      "cell_type": "code",
      "execution_count": null,
      "metadata": {
        "id": "5RsMwHv5EOtp"
      },
      "outputs": [],
      "source": [
        "# Get the file path of the uploaded xls file\n",
        "file_path = uploaded.get('cartype.xls')"
      ]
    },
    {
      "cell_type": "code",
      "execution_count": null,
      "metadata": {
        "id": "QQZDTW35FTwG"
      },
      "outputs": [],
      "source": [
        "cartype_df = pd.read_excel(file_path)"
      ]
    },
    {
      "cell_type": "markdown",
      "source": [
        "# **2. Understand the dataset**"
      ],
      "metadata": {
        "id": "K-X1fU0pd8nP"
      }
    },
    {
      "cell_type": "code",
      "execution_count": null,
      "metadata": {
        "colab": {
          "base_uri": "https://localhost:8080/"
        },
        "id": "FA2GN0T8IaxO",
        "outputId": "ed7bc36c-2c63-4228-aa44-43d5e4089ade"
      },
      "outputs": [
        {
          "output_type": "execute_result",
          "data": {
            "text/plain": [
              "Model Year                           int64\n",
              "Mfr Name                            object\n",
              "Division                            object\n",
              "Carline                             object\n",
              "Engine Displacement                float64\n",
              "# Cylinders                          int64\n",
              "Transmission                        object\n",
              "City FE                              int64\n",
              "Highway FE                           int64\n",
              "Combined FE                          int64\n",
              "Air Aspiration Method               object\n",
              "Transmission Description            object\n",
              "# Gears                              int64\n",
              "Drive Desc                          object\n",
              "Carline Class Desc                  object\n",
              "Release Date                datetime64[ns]\n",
              "City CO2                             int64\n",
              "Highway CO2                          int64\n",
              "Combined CO2                         int64\n",
              "dtype: object"
            ]
          },
          "metadata": {},
          "execution_count": 11
        }
      ],
      "source": [
        "cartype_df.dtypes"
      ]
    },
    {
      "cell_type": "code",
      "source": [
        "cartype_df"
      ],
      "metadata": {
        "colab": {
          "base_uri": "https://localhost:8080/",
          "height": 912
        },
        "id": "91x7A7PseK5a",
        "outputId": "9aca0cef-afe1-48f9-bf64-7fd0a31fdf57"
      },
      "execution_count": null,
      "outputs": [
        {
          "output_type": "execute_result",
          "data": {
            "text/plain": [
              "     Model Year             Mfr Name                  Division        Carline  \\\n",
              "0          2015         aston martin  Aston Martin Lagonda Ltd  V12 Vantage S   \n",
              "1          2015         aston martin  Aston Martin Lagonda Ltd     V8 Vantage   \n",
              "2          2015         aston martin  Aston Martin Lagonda Ltd     V8 Vantage   \n",
              "3          2015         aston martin  Aston Martin Lagonda Ltd   V8 Vantage S   \n",
              "4          2015         aston martin  Aston Martin Lagonda Ltd   V8 Vantage S   \n",
              "..          ...                  ...                       ...            ...   \n",
              "724        2015        Mercedes-Benz             Mercedes-Benz  GL 550 4MATIC   \n",
              "725        2015        Mercedes-Benz             Mercedes-Benz  ML 350 4MATIC   \n",
              "726        2015        Mercedes-Benz             Mercedes-Benz  ML 350 4MATIC   \n",
              "727        2015        Mercedes-Benz             Mercedes-Benz  ML 400 4MATIC   \n",
              "728        2015  Volkswagen Group of                Volkswagen        Touareg   \n",
              "\n",
              "     Engine Displacement  # Cylinders Transmission  City FE  Highway FE  \\\n",
              "0                    6.0           12         Auto       12          18   \n",
              "1                    4.7            8         Auto       14          21   \n",
              "2                    4.7            8       Manual       13          19   \n",
              "3                    4.7            8         Auto       14          21   \n",
              "4                    4.7            8       Manual       13          19   \n",
              "..                   ...          ...          ...      ...         ...   \n",
              "724                  4.7            8         Auto       13          18   \n",
              "725                  3.5            6         Auto       17          22   \n",
              "726                  3.5            6         Auto       17          22   \n",
              "727                  3.0            6         Auto       18          22   \n",
              "728                  3.6            6         Auto       17          23   \n",
              "\n",
              "     Combined FE Air Aspiration Method Transmission Description  # Gears  \\\n",
              "0             14   Naturally Aspirated         Automated Manual        7   \n",
              "1             16   Naturally Aspirated         Automated Manual        7   \n",
              "2             15   Naturally Aspirated                   Manual        6   \n",
              "3             16   Naturally Aspirated         Automated Manual        7   \n",
              "4             15   Naturally Aspirated                   Manual        6   \n",
              "..           ...                   ...                      ...      ...   \n",
              "724           15          Turbocharged                Automatic        7   \n",
              "725           19   Naturally Aspirated                Automatic        7   \n",
              "726           19   Naturally Aspirated                Automatic        7   \n",
              "727           20          Turbocharged                Automatic        7   \n",
              "728           19   Naturally Aspirated           Semi-Automatic        8   \n",
              "\n",
              "              Drive Desc Carline Class Desc Release Date  City CO2  \\\n",
              "0    2-Wheel Drive, Rear        Two Seaters   2014-01-20       742   \n",
              "1    2-Wheel Drive, Rear        Two Seaters   2014-05-19       655   \n",
              "2    2-Wheel Drive, Rear        Two Seaters   2014-05-19       681   \n",
              "3    2-Wheel Drive, Rear        Two Seaters   2014-05-19       655   \n",
              "4    2-Wheel Drive, Rear        Two Seaters   2014-05-19       681   \n",
              "..                   ...                ...          ...       ...   \n",
              "724        4-Wheel Drive   Standard SUV 4WD   2014-07-15       660   \n",
              "725        4-Wheel Drive   Standard SUV 4WD   2014-07-15       506   \n",
              "726        4-Wheel Drive   Standard SUV 4WD   2014-07-23       506   \n",
              "727        4-Wheel Drive   Standard SUV 4WD   2014-07-04       496   \n",
              "728      All Wheel Drive   Standard SUV 4WD   2014-08-01       520   \n",
              "\n",
              "     Highway CO2  Combined CO2  \n",
              "0            488           628  \n",
              "1            426           552  \n",
              "2            461           582  \n",
              "3            426           552  \n",
              "4            461           582  \n",
              "..           ...           ...  \n",
              "724          498           587  \n",
              "725          396           456  \n",
              "726          396           456  \n",
              "727          403           454  \n",
              "728          391           462  \n",
              "\n",
              "[729 rows x 19 columns]"
            ],
            "text/html": [
              "\n",
              "  <div id=\"df-43632b63-045d-4bcd-bf71-298320a3710d\" class=\"colab-df-container\">\n",
              "    <div>\n",
              "<style scoped>\n",
              "    .dataframe tbody tr th:only-of-type {\n",
              "        vertical-align: middle;\n",
              "    }\n",
              "\n",
              "    .dataframe tbody tr th {\n",
              "        vertical-align: top;\n",
              "    }\n",
              "\n",
              "    .dataframe thead th {\n",
              "        text-align: right;\n",
              "    }\n",
              "</style>\n",
              "<table border=\"1\" class=\"dataframe\">\n",
              "  <thead>\n",
              "    <tr style=\"text-align: right;\">\n",
              "      <th></th>\n",
              "      <th>Model Year</th>\n",
              "      <th>Mfr Name</th>\n",
              "      <th>Division</th>\n",
              "      <th>Carline</th>\n",
              "      <th>Engine Displacement</th>\n",
              "      <th># Cylinders</th>\n",
              "      <th>Transmission</th>\n",
              "      <th>City FE</th>\n",
              "      <th>Highway FE</th>\n",
              "      <th>Combined FE</th>\n",
              "      <th>Air Aspiration Method</th>\n",
              "      <th>Transmission Description</th>\n",
              "      <th># Gears</th>\n",
              "      <th>Drive Desc</th>\n",
              "      <th>Carline Class Desc</th>\n",
              "      <th>Release Date</th>\n",
              "      <th>City CO2</th>\n",
              "      <th>Highway CO2</th>\n",
              "      <th>Combined CO2</th>\n",
              "    </tr>\n",
              "  </thead>\n",
              "  <tbody>\n",
              "    <tr>\n",
              "      <th>0</th>\n",
              "      <td>2015</td>\n",
              "      <td>aston martin</td>\n",
              "      <td>Aston Martin Lagonda Ltd</td>\n",
              "      <td>V12 Vantage S</td>\n",
              "      <td>6.0</td>\n",
              "      <td>12</td>\n",
              "      <td>Auto</td>\n",
              "      <td>12</td>\n",
              "      <td>18</td>\n",
              "      <td>14</td>\n",
              "      <td>Naturally Aspirated</td>\n",
              "      <td>Automated Manual</td>\n",
              "      <td>7</td>\n",
              "      <td>2-Wheel Drive, Rear</td>\n",
              "      <td>Two Seaters</td>\n",
              "      <td>2014-01-20</td>\n",
              "      <td>742</td>\n",
              "      <td>488</td>\n",
              "      <td>628</td>\n",
              "    </tr>\n",
              "    <tr>\n",
              "      <th>1</th>\n",
              "      <td>2015</td>\n",
              "      <td>aston martin</td>\n",
              "      <td>Aston Martin Lagonda Ltd</td>\n",
              "      <td>V8 Vantage</td>\n",
              "      <td>4.7</td>\n",
              "      <td>8</td>\n",
              "      <td>Auto</td>\n",
              "      <td>14</td>\n",
              "      <td>21</td>\n",
              "      <td>16</td>\n",
              "      <td>Naturally Aspirated</td>\n",
              "      <td>Automated Manual</td>\n",
              "      <td>7</td>\n",
              "      <td>2-Wheel Drive, Rear</td>\n",
              "      <td>Two Seaters</td>\n",
              "      <td>2014-05-19</td>\n",
              "      <td>655</td>\n",
              "      <td>426</td>\n",
              "      <td>552</td>\n",
              "    </tr>\n",
              "    <tr>\n",
              "      <th>2</th>\n",
              "      <td>2015</td>\n",
              "      <td>aston martin</td>\n",
              "      <td>Aston Martin Lagonda Ltd</td>\n",
              "      <td>V8 Vantage</td>\n",
              "      <td>4.7</td>\n",
              "      <td>8</td>\n",
              "      <td>Manual</td>\n",
              "      <td>13</td>\n",
              "      <td>19</td>\n",
              "      <td>15</td>\n",
              "      <td>Naturally Aspirated</td>\n",
              "      <td>Manual</td>\n",
              "      <td>6</td>\n",
              "      <td>2-Wheel Drive, Rear</td>\n",
              "      <td>Two Seaters</td>\n",
              "      <td>2014-05-19</td>\n",
              "      <td>681</td>\n",
              "      <td>461</td>\n",
              "      <td>582</td>\n",
              "    </tr>\n",
              "    <tr>\n",
              "      <th>3</th>\n",
              "      <td>2015</td>\n",
              "      <td>aston martin</td>\n",
              "      <td>Aston Martin Lagonda Ltd</td>\n",
              "      <td>V8 Vantage S</td>\n",
              "      <td>4.7</td>\n",
              "      <td>8</td>\n",
              "      <td>Auto</td>\n",
              "      <td>14</td>\n",
              "      <td>21</td>\n",
              "      <td>16</td>\n",
              "      <td>Naturally Aspirated</td>\n",
              "      <td>Automated Manual</td>\n",
              "      <td>7</td>\n",
              "      <td>2-Wheel Drive, Rear</td>\n",
              "      <td>Two Seaters</td>\n",
              "      <td>2014-05-19</td>\n",
              "      <td>655</td>\n",
              "      <td>426</td>\n",
              "      <td>552</td>\n",
              "    </tr>\n",
              "    <tr>\n",
              "      <th>4</th>\n",
              "      <td>2015</td>\n",
              "      <td>aston martin</td>\n",
              "      <td>Aston Martin Lagonda Ltd</td>\n",
              "      <td>V8 Vantage S</td>\n",
              "      <td>4.7</td>\n",
              "      <td>8</td>\n",
              "      <td>Manual</td>\n",
              "      <td>13</td>\n",
              "      <td>19</td>\n",
              "      <td>15</td>\n",
              "      <td>Naturally Aspirated</td>\n",
              "      <td>Manual</td>\n",
              "      <td>6</td>\n",
              "      <td>2-Wheel Drive, Rear</td>\n",
              "      <td>Two Seaters</td>\n",
              "      <td>2014-05-19</td>\n",
              "      <td>681</td>\n",
              "      <td>461</td>\n",
              "      <td>582</td>\n",
              "    </tr>\n",
              "    <tr>\n",
              "      <th>...</th>\n",
              "      <td>...</td>\n",
              "      <td>...</td>\n",
              "      <td>...</td>\n",
              "      <td>...</td>\n",
              "      <td>...</td>\n",
              "      <td>...</td>\n",
              "      <td>...</td>\n",
              "      <td>...</td>\n",
              "      <td>...</td>\n",
              "      <td>...</td>\n",
              "      <td>...</td>\n",
              "      <td>...</td>\n",
              "      <td>...</td>\n",
              "      <td>...</td>\n",
              "      <td>...</td>\n",
              "      <td>...</td>\n",
              "      <td>...</td>\n",
              "      <td>...</td>\n",
              "      <td>...</td>\n",
              "    </tr>\n",
              "    <tr>\n",
              "      <th>724</th>\n",
              "      <td>2015</td>\n",
              "      <td>Mercedes-Benz</td>\n",
              "      <td>Mercedes-Benz</td>\n",
              "      <td>GL 550 4MATIC</td>\n",
              "      <td>4.7</td>\n",
              "      <td>8</td>\n",
              "      <td>Auto</td>\n",
              "      <td>13</td>\n",
              "      <td>18</td>\n",
              "      <td>15</td>\n",
              "      <td>Turbocharged</td>\n",
              "      <td>Automatic</td>\n",
              "      <td>7</td>\n",
              "      <td>4-Wheel Drive</td>\n",
              "      <td>Standard SUV 4WD</td>\n",
              "      <td>2014-07-15</td>\n",
              "      <td>660</td>\n",
              "      <td>498</td>\n",
              "      <td>587</td>\n",
              "    </tr>\n",
              "    <tr>\n",
              "      <th>725</th>\n",
              "      <td>2015</td>\n",
              "      <td>Mercedes-Benz</td>\n",
              "      <td>Mercedes-Benz</td>\n",
              "      <td>ML 350 4MATIC</td>\n",
              "      <td>3.5</td>\n",
              "      <td>6</td>\n",
              "      <td>Auto</td>\n",
              "      <td>17</td>\n",
              "      <td>22</td>\n",
              "      <td>19</td>\n",
              "      <td>Naturally Aspirated</td>\n",
              "      <td>Automatic</td>\n",
              "      <td>7</td>\n",
              "      <td>4-Wheel Drive</td>\n",
              "      <td>Standard SUV 4WD</td>\n",
              "      <td>2014-07-15</td>\n",
              "      <td>506</td>\n",
              "      <td>396</td>\n",
              "      <td>456</td>\n",
              "    </tr>\n",
              "    <tr>\n",
              "      <th>726</th>\n",
              "      <td>2015</td>\n",
              "      <td>Mercedes-Benz</td>\n",
              "      <td>Mercedes-Benz</td>\n",
              "      <td>ML 350 4MATIC</td>\n",
              "      <td>3.5</td>\n",
              "      <td>6</td>\n",
              "      <td>Auto</td>\n",
              "      <td>17</td>\n",
              "      <td>22</td>\n",
              "      <td>19</td>\n",
              "      <td>Naturally Aspirated</td>\n",
              "      <td>Automatic</td>\n",
              "      <td>7</td>\n",
              "      <td>4-Wheel Drive</td>\n",
              "      <td>Standard SUV 4WD</td>\n",
              "      <td>2014-07-23</td>\n",
              "      <td>506</td>\n",
              "      <td>396</td>\n",
              "      <td>456</td>\n",
              "    </tr>\n",
              "    <tr>\n",
              "      <th>727</th>\n",
              "      <td>2015</td>\n",
              "      <td>Mercedes-Benz</td>\n",
              "      <td>Mercedes-Benz</td>\n",
              "      <td>ML 400 4MATIC</td>\n",
              "      <td>3.0</td>\n",
              "      <td>6</td>\n",
              "      <td>Auto</td>\n",
              "      <td>18</td>\n",
              "      <td>22</td>\n",
              "      <td>20</td>\n",
              "      <td>Turbocharged</td>\n",
              "      <td>Automatic</td>\n",
              "      <td>7</td>\n",
              "      <td>4-Wheel Drive</td>\n",
              "      <td>Standard SUV 4WD</td>\n",
              "      <td>2014-07-04</td>\n",
              "      <td>496</td>\n",
              "      <td>403</td>\n",
              "      <td>454</td>\n",
              "    </tr>\n",
              "    <tr>\n",
              "      <th>728</th>\n",
              "      <td>2015</td>\n",
              "      <td>Volkswagen Group of</td>\n",
              "      <td>Volkswagen</td>\n",
              "      <td>Touareg</td>\n",
              "      <td>3.6</td>\n",
              "      <td>6</td>\n",
              "      <td>Auto</td>\n",
              "      <td>17</td>\n",
              "      <td>23</td>\n",
              "      <td>19</td>\n",
              "      <td>Naturally Aspirated</td>\n",
              "      <td>Semi-Automatic</td>\n",
              "      <td>8</td>\n",
              "      <td>All Wheel Drive</td>\n",
              "      <td>Standard SUV 4WD</td>\n",
              "      <td>2014-08-01</td>\n",
              "      <td>520</td>\n",
              "      <td>391</td>\n",
              "      <td>462</td>\n",
              "    </tr>\n",
              "  </tbody>\n",
              "</table>\n",
              "<p>729 rows × 19 columns</p>\n",
              "</div>\n",
              "    <div class=\"colab-df-buttons\">\n",
              "\n",
              "  <div class=\"colab-df-container\">\n",
              "    <button class=\"colab-df-convert\" onclick=\"convertToInteractive('df-43632b63-045d-4bcd-bf71-298320a3710d')\"\n",
              "            title=\"Convert this dataframe to an interactive table.\"\n",
              "            style=\"display:none;\">\n",
              "\n",
              "  <svg xmlns=\"http://www.w3.org/2000/svg\" height=\"24px\" viewBox=\"0 -960 960 960\">\n",
              "    <path d=\"M120-120v-720h720v720H120Zm60-500h600v-160H180v160Zm220 220h160v-160H400v160Zm0 220h160v-160H400v160ZM180-400h160v-160H180v160Zm440 0h160v-160H620v160ZM180-180h160v-160H180v160Zm440 0h160v-160H620v160Z\"/>\n",
              "  </svg>\n",
              "    </button>\n",
              "\n",
              "  <style>\n",
              "    .colab-df-container {\n",
              "      display:flex;\n",
              "      gap: 12px;\n",
              "    }\n",
              "\n",
              "    .colab-df-convert {\n",
              "      background-color: #E8F0FE;\n",
              "      border: none;\n",
              "      border-radius: 50%;\n",
              "      cursor: pointer;\n",
              "      display: none;\n",
              "      fill: #1967D2;\n",
              "      height: 32px;\n",
              "      padding: 0 0 0 0;\n",
              "      width: 32px;\n",
              "    }\n",
              "\n",
              "    .colab-df-convert:hover {\n",
              "      background-color: #E2EBFA;\n",
              "      box-shadow: 0px 1px 2px rgba(60, 64, 67, 0.3), 0px 1px 3px 1px rgba(60, 64, 67, 0.15);\n",
              "      fill: #174EA6;\n",
              "    }\n",
              "\n",
              "    .colab-df-buttons div {\n",
              "      margin-bottom: 4px;\n",
              "    }\n",
              "\n",
              "    [theme=dark] .colab-df-convert {\n",
              "      background-color: #3B4455;\n",
              "      fill: #D2E3FC;\n",
              "    }\n",
              "\n",
              "    [theme=dark] .colab-df-convert:hover {\n",
              "      background-color: #434B5C;\n",
              "      box-shadow: 0px 1px 3px 1px rgba(0, 0, 0, 0.15);\n",
              "      filter: drop-shadow(0px 1px 2px rgba(0, 0, 0, 0.3));\n",
              "      fill: #FFFFFF;\n",
              "    }\n",
              "  </style>\n",
              "\n",
              "    <script>\n",
              "      const buttonEl =\n",
              "        document.querySelector('#df-43632b63-045d-4bcd-bf71-298320a3710d button.colab-df-convert');\n",
              "      buttonEl.style.display =\n",
              "        google.colab.kernel.accessAllowed ? 'block' : 'none';\n",
              "\n",
              "      async function convertToInteractive(key) {\n",
              "        const element = document.querySelector('#df-43632b63-045d-4bcd-bf71-298320a3710d');\n",
              "        const dataTable =\n",
              "          await google.colab.kernel.invokeFunction('convertToInteractive',\n",
              "                                                    [key], {});\n",
              "        if (!dataTable) return;\n",
              "\n",
              "        const docLinkHtml = 'Like what you see? Visit the ' +\n",
              "          '<a target=\"_blank\" href=https://colab.research.google.com/notebooks/data_table.ipynb>data table notebook</a>'\n",
              "          + ' to learn more about interactive tables.';\n",
              "        element.innerHTML = '';\n",
              "        dataTable['output_type'] = 'display_data';\n",
              "        await google.colab.output.renderOutput(dataTable, element);\n",
              "        const docLink = document.createElement('div');\n",
              "        docLink.innerHTML = docLinkHtml;\n",
              "        element.appendChild(docLink);\n",
              "      }\n",
              "    </script>\n",
              "  </div>\n",
              "\n",
              "\n",
              "<div id=\"df-697a99b6-6a16-4ac0-accd-06abc87cde58\">\n",
              "  <button class=\"colab-df-quickchart\" onclick=\"quickchart('df-697a99b6-6a16-4ac0-accd-06abc87cde58')\"\n",
              "            title=\"Suggest charts.\"\n",
              "            style=\"display:none;\">\n",
              "\n",
              "<svg xmlns=\"http://www.w3.org/2000/svg\" height=\"24px\"viewBox=\"0 0 24 24\"\n",
              "     width=\"24px\">\n",
              "    <g>\n",
              "        <path d=\"M19 3H5c-1.1 0-2 .9-2 2v14c0 1.1.9 2 2 2h14c1.1 0 2-.9 2-2V5c0-1.1-.9-2-2-2zM9 17H7v-7h2v7zm4 0h-2V7h2v10zm4 0h-2v-4h2v4z\"/>\n",
              "    </g>\n",
              "</svg>\n",
              "  </button>\n",
              "\n",
              "<style>\n",
              "  .colab-df-quickchart {\n",
              "      --bg-color: #E8F0FE;\n",
              "      --fill-color: #1967D2;\n",
              "      --hover-bg-color: #E2EBFA;\n",
              "      --hover-fill-color: #174EA6;\n",
              "      --disabled-fill-color: #AAA;\n",
              "      --disabled-bg-color: #DDD;\n",
              "  }\n",
              "\n",
              "  [theme=dark] .colab-df-quickchart {\n",
              "      --bg-color: #3B4455;\n",
              "      --fill-color: #D2E3FC;\n",
              "      --hover-bg-color: #434B5C;\n",
              "      --hover-fill-color: #FFFFFF;\n",
              "      --disabled-bg-color: #3B4455;\n",
              "      --disabled-fill-color: #666;\n",
              "  }\n",
              "\n",
              "  .colab-df-quickchart {\n",
              "    background-color: var(--bg-color);\n",
              "    border: none;\n",
              "    border-radius: 50%;\n",
              "    cursor: pointer;\n",
              "    display: none;\n",
              "    fill: var(--fill-color);\n",
              "    height: 32px;\n",
              "    padding: 0;\n",
              "    width: 32px;\n",
              "  }\n",
              "\n",
              "  .colab-df-quickchart:hover {\n",
              "    background-color: var(--hover-bg-color);\n",
              "    box-shadow: 0 1px 2px rgba(60, 64, 67, 0.3), 0 1px 3px 1px rgba(60, 64, 67, 0.15);\n",
              "    fill: var(--button-hover-fill-color);\n",
              "  }\n",
              "\n",
              "  .colab-df-quickchart-complete:disabled,\n",
              "  .colab-df-quickchart-complete:disabled:hover {\n",
              "    background-color: var(--disabled-bg-color);\n",
              "    fill: var(--disabled-fill-color);\n",
              "    box-shadow: none;\n",
              "  }\n",
              "\n",
              "  .colab-df-spinner {\n",
              "    border: 2px solid var(--fill-color);\n",
              "    border-color: transparent;\n",
              "    border-bottom-color: var(--fill-color);\n",
              "    animation:\n",
              "      spin 1s steps(1) infinite;\n",
              "  }\n",
              "\n",
              "  @keyframes spin {\n",
              "    0% {\n",
              "      border-color: transparent;\n",
              "      border-bottom-color: var(--fill-color);\n",
              "      border-left-color: var(--fill-color);\n",
              "    }\n",
              "    20% {\n",
              "      border-color: transparent;\n",
              "      border-left-color: var(--fill-color);\n",
              "      border-top-color: var(--fill-color);\n",
              "    }\n",
              "    30% {\n",
              "      border-color: transparent;\n",
              "      border-left-color: var(--fill-color);\n",
              "      border-top-color: var(--fill-color);\n",
              "      border-right-color: var(--fill-color);\n",
              "    }\n",
              "    40% {\n",
              "      border-color: transparent;\n",
              "      border-right-color: var(--fill-color);\n",
              "      border-top-color: var(--fill-color);\n",
              "    }\n",
              "    60% {\n",
              "      border-color: transparent;\n",
              "      border-right-color: var(--fill-color);\n",
              "    }\n",
              "    80% {\n",
              "      border-color: transparent;\n",
              "      border-right-color: var(--fill-color);\n",
              "      border-bottom-color: var(--fill-color);\n",
              "    }\n",
              "    90% {\n",
              "      border-color: transparent;\n",
              "      border-bottom-color: var(--fill-color);\n",
              "    }\n",
              "  }\n",
              "</style>\n",
              "\n",
              "  <script>\n",
              "    async function quickchart(key) {\n",
              "      const quickchartButtonEl =\n",
              "        document.querySelector('#' + key + ' button');\n",
              "      quickchartButtonEl.disabled = true;  // To prevent multiple clicks.\n",
              "      quickchartButtonEl.classList.add('colab-df-spinner');\n",
              "      try {\n",
              "        const charts = await google.colab.kernel.invokeFunction(\n",
              "            'suggestCharts', [key], {});\n",
              "      } catch (error) {\n",
              "        console.error('Error during call to suggestCharts:', error);\n",
              "      }\n",
              "      quickchartButtonEl.classList.remove('colab-df-spinner');\n",
              "      quickchartButtonEl.classList.add('colab-df-quickchart-complete');\n",
              "    }\n",
              "    (() => {\n",
              "      let quickchartButtonEl =\n",
              "        document.querySelector('#df-697a99b6-6a16-4ac0-accd-06abc87cde58 button');\n",
              "      quickchartButtonEl.style.display =\n",
              "        google.colab.kernel.accessAllowed ? 'block' : 'none';\n",
              "    })();\n",
              "  </script>\n",
              "</div>\n",
              "    </div>\n",
              "  </div>\n"
            ]
          },
          "metadata": {},
          "execution_count": 12
        }
      ]
    },
    {
      "cell_type": "markdown",
      "source": [
        "# **3. Data Preprocessing**"
      ],
      "metadata": {
        "id": "65We43HnezTI"
      }
    },
    {
      "cell_type": "markdown",
      "source": [
        "3.1 Identifying missing value"
      ],
      "metadata": {
        "id": "Tk_y-nvhDCKy"
      }
    },
    {
      "cell_type": "code",
      "source": [
        "# Identifying missing values\n",
        "\n",
        "missing_values = cartype_df.isnull().sum()\n",
        "print(missing_values)"
      ],
      "metadata": {
        "colab": {
          "base_uri": "https://localhost:8080/"
        },
        "id": "bmBowHoqeWN3",
        "outputId": "9bb3fa46-eaab-4307-d37d-3e082b70c404"
      },
      "execution_count": null,
      "outputs": [
        {
          "output_type": "stream",
          "name": "stdout",
          "text": [
            "Model Year                  0\n",
            "Mfr Name                    0\n",
            "Division                    0\n",
            "Carline                     0\n",
            "Engine Displacement         0\n",
            "# Cylinders                 0\n",
            "Transmission                0\n",
            "City FE                     0\n",
            "Highway FE                  0\n",
            "Combined FE                 0\n",
            "Air Aspiration Method       0\n",
            "Transmission Description    0\n",
            "# Gears                     0\n",
            "Drive Desc                  0\n",
            "Carline Class Desc          0\n",
            "Release Date                0\n",
            "City CO2                    0\n",
            "Highway CO2                 0\n",
            "Combined CO2                0\n",
            "dtype: int64\n"
          ]
        }
      ]
    },
    {
      "cell_type": "markdown",
      "source": [
        "No missing values identifed"
      ],
      "metadata": {
        "id": "r1V7uCE4hGef"
      }
    },
    {
      "cell_type": "markdown",
      "source": [
        "3.2 Identifying duplicates entry"
      ],
      "metadata": {
        "id": "2uGRD9pODJ4g"
      }
    },
    {
      "cell_type": "code",
      "source": [
        "# identify duplicate entries in Cartype\n",
        "duplicates = cartype_df[cartype_df.duplicated()]\n",
        "\n",
        "# print the list of the duplicates identified\n",
        "print(duplicates)"
      ],
      "metadata": {
        "colab": {
          "base_uri": "https://localhost:8080/"
        },
        "id": "Cu1x9Zg6hV1t",
        "outputId": "8943583b-e345-4518-feb4-0f13c149f9b2"
      },
      "execution_count": null,
      "outputs": [
        {
          "output_type": "stream",
          "name": "stdout",
          "text": [
            "     Model Year            Mfr Name   Division                      Carline  \\\n",
            "537        2015      General Motors  Chevrolet  G2500 EXPRESS 2WD PASS MDPV   \n",
            "545        2015      General Motors        GMC   G2500 SAVANA 2WD PASS MDPV   \n",
            "556        2015  Chrysler Group LLC        RAM                C/V Tradesman   \n",
            "562        2015      General Motors  Chevrolet                  EQUINOX FWD   \n",
            "567        2015      General Motors        GMC                  TERRAIN FWD   \n",
            "574        2015  Chrysler Group LLC       Jeep                 Cherokee FWD   \n",
            "626        2015  Chrysler Group LLC       Jeep                 Cherokee 4X4   \n",
            "\n",
            "     Engine Displacement  # Cylinders Transmission  City FE  Highway FE  \\\n",
            "537                  6.0            8         Auto       11          16   \n",
            "545                  6.0            8         Auto       11          16   \n",
            "556                  3.6            6         Auto       18          26   \n",
            "562                  2.4            4         Auto       22          32   \n",
            "567                  2.4            4         Auto       22          32   \n",
            "574                  2.4            4         Auto       22          31   \n",
            "626                  2.4            4         Auto       21          28   \n",
            "\n",
            "     Combined FE Air Aspiration Method Transmission Description  # Gears  \\\n",
            "537           13   Naturally Aspirated                Automatic        6   \n",
            "545           13   Naturally Aspirated                Automatic        6   \n",
            "556           21   Naturally Aspirated                Automatic        6   \n",
            "562           26   Naturally Aspirated                Automatic        6   \n",
            "567           26   Naturally Aspirated                Automatic        6   \n",
            "574           25   Naturally Aspirated                Automatic        9   \n",
            "626           24   Naturally Aspirated                Automatic        9   \n",
            "\n",
            "               Drive Desc                    Carline Class Desc Release Date  \\\n",
            "537   2-Wheel Drive, Rear                  Vans, Passenger Type   2014-07-21   \n",
            "545   2-Wheel Drive, Rear                  Vans, Passenger Type   2014-07-21   \n",
            "556  2-Wheel Drive, Front  Special Purpose Vehicle, minivan 2WD   2014-08-04   \n",
            "562  2-Wheel Drive, Front                         Small SUV 2WD   2014-05-30   \n",
            "567  2-Wheel Drive, Front                         Small SUV 2WD   2014-05-30   \n",
            "574  2-Wheel Drive, Front                         Small SUV 2WD   2014-07-21   \n",
            "626       All Wheel Drive                         Small SUV 4WD   2014-07-21   \n",
            "\n",
            "     City CO2  Highway CO2  Combined CO2  \n",
            "537       830          564           710  \n",
            "545       830          564           710  \n",
            "556       504          345           432  \n",
            "562       398          278           344  \n",
            "567       398          278           344  \n",
            "574       414          291           359  \n",
            "626       426          315           376  \n"
          ]
        }
      ]
    },
    {
      "cell_type": "markdown",
      "source": [
        "List of 7 duplicates identified"
      ],
      "metadata": {
        "id": "x6gqZHdrhek1"
      }
    },
    {
      "cell_type": "markdown",
      "source": [
        "3.2.1 Removing duplicates"
      ],
      "metadata": {
        "id": "DavKPp58yHPK"
      }
    },
    {
      "cell_type": "code",
      "source": [
        "# Remove all the duplicates from the dataframe\n",
        "cartype_df = cartype_df.drop_duplicates()"
      ],
      "metadata": {
        "id": "Sf8FFHl5yFj-"
      },
      "execution_count": null,
      "outputs": []
    },
    {
      "cell_type": "code",
      "execution_count": null,
      "metadata": {
        "id": "tglCTAJaXHZU"
      },
      "outputs": [],
      "source": [
        "# Save into new files without the duplicates in csv format\n",
        "cartype_df.to_csv('cartype.1_without_duplicates.csv', index=False)"
      ]
    },
    {
      "cell_type": "code",
      "source": [
        "# View dataframe after duplicates lines removed\n",
        "cartype_df"
      ],
      "metadata": {
        "colab": {
          "base_uri": "https://localhost:8080/",
          "height": 912
        },
        "id": "0pYUErrf8Un5",
        "outputId": "ddbb8473-7b56-4c04-e6e1-56060992cef6"
      },
      "execution_count": null,
      "outputs": [
        {
          "output_type": "execute_result",
          "data": {
            "text/plain": [
              "     Model Year             Mfr Name                  Division        Carline  \\\n",
              "0          2015         aston martin  Aston Martin Lagonda Ltd  V12 Vantage S   \n",
              "1          2015         aston martin  Aston Martin Lagonda Ltd     V8 Vantage   \n",
              "2          2015         aston martin  Aston Martin Lagonda Ltd     V8 Vantage   \n",
              "3          2015         aston martin  Aston Martin Lagonda Ltd   V8 Vantage S   \n",
              "4          2015         aston martin  Aston Martin Lagonda Ltd   V8 Vantage S   \n",
              "..          ...                  ...                       ...            ...   \n",
              "724        2015        Mercedes-Benz             Mercedes-Benz  GL 550 4MATIC   \n",
              "725        2015        Mercedes-Benz             Mercedes-Benz  ML 350 4MATIC   \n",
              "726        2015        Mercedes-Benz             Mercedes-Benz  ML 350 4MATIC   \n",
              "727        2015        Mercedes-Benz             Mercedes-Benz  ML 400 4MATIC   \n",
              "728        2015  Volkswagen Group of                Volkswagen        Touareg   \n",
              "\n",
              "     Engine Displacement  # Cylinders Transmission  City FE  Highway FE  \\\n",
              "0                    6.0           12         Auto       12          18   \n",
              "1                    4.7            8         Auto       14          21   \n",
              "2                    4.7            8       Manual       13          19   \n",
              "3                    4.7            8         Auto       14          21   \n",
              "4                    4.7            8       Manual       13          19   \n",
              "..                   ...          ...          ...      ...         ...   \n",
              "724                  4.7            8         Auto       13          18   \n",
              "725                  3.5            6         Auto       17          22   \n",
              "726                  3.5            6         Auto       17          22   \n",
              "727                  3.0            6         Auto       18          22   \n",
              "728                  3.6            6         Auto       17          23   \n",
              "\n",
              "     Combined FE Air Aspiration Method Transmission Description  # Gears  \\\n",
              "0             14   Naturally Aspirated         Automated Manual        7   \n",
              "1             16   Naturally Aspirated         Automated Manual        7   \n",
              "2             15   Naturally Aspirated                   Manual        6   \n",
              "3             16   Naturally Aspirated         Automated Manual        7   \n",
              "4             15   Naturally Aspirated                   Manual        6   \n",
              "..           ...                   ...                      ...      ...   \n",
              "724           15          Turbocharged                Automatic        7   \n",
              "725           19   Naturally Aspirated                Automatic        7   \n",
              "726           19   Naturally Aspirated                Automatic        7   \n",
              "727           20          Turbocharged                Automatic        7   \n",
              "728           19   Naturally Aspirated           Semi-Automatic        8   \n",
              "\n",
              "              Drive Desc Carline Class Desc Release Date  City CO2  \\\n",
              "0    2-Wheel Drive, Rear        Two Seaters   2014-01-20       742   \n",
              "1    2-Wheel Drive, Rear        Two Seaters   2014-05-19       655   \n",
              "2    2-Wheel Drive, Rear        Two Seaters   2014-05-19       681   \n",
              "3    2-Wheel Drive, Rear        Two Seaters   2014-05-19       655   \n",
              "4    2-Wheel Drive, Rear        Two Seaters   2014-05-19       681   \n",
              "..                   ...                ...          ...       ...   \n",
              "724        4-Wheel Drive   Standard SUV 4WD   2014-07-15       660   \n",
              "725        4-Wheel Drive   Standard SUV 4WD   2014-07-15       506   \n",
              "726        4-Wheel Drive   Standard SUV 4WD   2014-07-23       506   \n",
              "727        4-Wheel Drive   Standard SUV 4WD   2014-07-04       496   \n",
              "728      All Wheel Drive   Standard SUV 4WD   2014-08-01       520   \n",
              "\n",
              "     Highway CO2  Combined CO2  \n",
              "0            488           628  \n",
              "1            426           552  \n",
              "2            461           582  \n",
              "3            426           552  \n",
              "4            461           582  \n",
              "..           ...           ...  \n",
              "724          498           587  \n",
              "725          396           456  \n",
              "726          396           456  \n",
              "727          403           454  \n",
              "728          391           462  \n",
              "\n",
              "[722 rows x 19 columns]"
            ],
            "text/html": [
              "\n",
              "  <div id=\"df-a442ceec-d04b-4241-babf-2e18d9b37a74\" class=\"colab-df-container\">\n",
              "    <div>\n",
              "<style scoped>\n",
              "    .dataframe tbody tr th:only-of-type {\n",
              "        vertical-align: middle;\n",
              "    }\n",
              "\n",
              "    .dataframe tbody tr th {\n",
              "        vertical-align: top;\n",
              "    }\n",
              "\n",
              "    .dataframe thead th {\n",
              "        text-align: right;\n",
              "    }\n",
              "</style>\n",
              "<table border=\"1\" class=\"dataframe\">\n",
              "  <thead>\n",
              "    <tr style=\"text-align: right;\">\n",
              "      <th></th>\n",
              "      <th>Model Year</th>\n",
              "      <th>Mfr Name</th>\n",
              "      <th>Division</th>\n",
              "      <th>Carline</th>\n",
              "      <th>Engine Displacement</th>\n",
              "      <th># Cylinders</th>\n",
              "      <th>Transmission</th>\n",
              "      <th>City FE</th>\n",
              "      <th>Highway FE</th>\n",
              "      <th>Combined FE</th>\n",
              "      <th>Air Aspiration Method</th>\n",
              "      <th>Transmission Description</th>\n",
              "      <th># Gears</th>\n",
              "      <th>Drive Desc</th>\n",
              "      <th>Carline Class Desc</th>\n",
              "      <th>Release Date</th>\n",
              "      <th>City CO2</th>\n",
              "      <th>Highway CO2</th>\n",
              "      <th>Combined CO2</th>\n",
              "    </tr>\n",
              "  </thead>\n",
              "  <tbody>\n",
              "    <tr>\n",
              "      <th>0</th>\n",
              "      <td>2015</td>\n",
              "      <td>aston martin</td>\n",
              "      <td>Aston Martin Lagonda Ltd</td>\n",
              "      <td>V12 Vantage S</td>\n",
              "      <td>6.0</td>\n",
              "      <td>12</td>\n",
              "      <td>Auto</td>\n",
              "      <td>12</td>\n",
              "      <td>18</td>\n",
              "      <td>14</td>\n",
              "      <td>Naturally Aspirated</td>\n",
              "      <td>Automated Manual</td>\n",
              "      <td>7</td>\n",
              "      <td>2-Wheel Drive, Rear</td>\n",
              "      <td>Two Seaters</td>\n",
              "      <td>2014-01-20</td>\n",
              "      <td>742</td>\n",
              "      <td>488</td>\n",
              "      <td>628</td>\n",
              "    </tr>\n",
              "    <tr>\n",
              "      <th>1</th>\n",
              "      <td>2015</td>\n",
              "      <td>aston martin</td>\n",
              "      <td>Aston Martin Lagonda Ltd</td>\n",
              "      <td>V8 Vantage</td>\n",
              "      <td>4.7</td>\n",
              "      <td>8</td>\n",
              "      <td>Auto</td>\n",
              "      <td>14</td>\n",
              "      <td>21</td>\n",
              "      <td>16</td>\n",
              "      <td>Naturally Aspirated</td>\n",
              "      <td>Automated Manual</td>\n",
              "      <td>7</td>\n",
              "      <td>2-Wheel Drive, Rear</td>\n",
              "      <td>Two Seaters</td>\n",
              "      <td>2014-05-19</td>\n",
              "      <td>655</td>\n",
              "      <td>426</td>\n",
              "      <td>552</td>\n",
              "    </tr>\n",
              "    <tr>\n",
              "      <th>2</th>\n",
              "      <td>2015</td>\n",
              "      <td>aston martin</td>\n",
              "      <td>Aston Martin Lagonda Ltd</td>\n",
              "      <td>V8 Vantage</td>\n",
              "      <td>4.7</td>\n",
              "      <td>8</td>\n",
              "      <td>Manual</td>\n",
              "      <td>13</td>\n",
              "      <td>19</td>\n",
              "      <td>15</td>\n",
              "      <td>Naturally Aspirated</td>\n",
              "      <td>Manual</td>\n",
              "      <td>6</td>\n",
              "      <td>2-Wheel Drive, Rear</td>\n",
              "      <td>Two Seaters</td>\n",
              "      <td>2014-05-19</td>\n",
              "      <td>681</td>\n",
              "      <td>461</td>\n",
              "      <td>582</td>\n",
              "    </tr>\n",
              "    <tr>\n",
              "      <th>3</th>\n",
              "      <td>2015</td>\n",
              "      <td>aston martin</td>\n",
              "      <td>Aston Martin Lagonda Ltd</td>\n",
              "      <td>V8 Vantage S</td>\n",
              "      <td>4.7</td>\n",
              "      <td>8</td>\n",
              "      <td>Auto</td>\n",
              "      <td>14</td>\n",
              "      <td>21</td>\n",
              "      <td>16</td>\n",
              "      <td>Naturally Aspirated</td>\n",
              "      <td>Automated Manual</td>\n",
              "      <td>7</td>\n",
              "      <td>2-Wheel Drive, Rear</td>\n",
              "      <td>Two Seaters</td>\n",
              "      <td>2014-05-19</td>\n",
              "      <td>655</td>\n",
              "      <td>426</td>\n",
              "      <td>552</td>\n",
              "    </tr>\n",
              "    <tr>\n",
              "      <th>4</th>\n",
              "      <td>2015</td>\n",
              "      <td>aston martin</td>\n",
              "      <td>Aston Martin Lagonda Ltd</td>\n",
              "      <td>V8 Vantage S</td>\n",
              "      <td>4.7</td>\n",
              "      <td>8</td>\n",
              "      <td>Manual</td>\n",
              "      <td>13</td>\n",
              "      <td>19</td>\n",
              "      <td>15</td>\n",
              "      <td>Naturally Aspirated</td>\n",
              "      <td>Manual</td>\n",
              "      <td>6</td>\n",
              "      <td>2-Wheel Drive, Rear</td>\n",
              "      <td>Two Seaters</td>\n",
              "      <td>2014-05-19</td>\n",
              "      <td>681</td>\n",
              "      <td>461</td>\n",
              "      <td>582</td>\n",
              "    </tr>\n",
              "    <tr>\n",
              "      <th>...</th>\n",
              "      <td>...</td>\n",
              "      <td>...</td>\n",
              "      <td>...</td>\n",
              "      <td>...</td>\n",
              "      <td>...</td>\n",
              "      <td>...</td>\n",
              "      <td>...</td>\n",
              "      <td>...</td>\n",
              "      <td>...</td>\n",
              "      <td>...</td>\n",
              "      <td>...</td>\n",
              "      <td>...</td>\n",
              "      <td>...</td>\n",
              "      <td>...</td>\n",
              "      <td>...</td>\n",
              "      <td>...</td>\n",
              "      <td>...</td>\n",
              "      <td>...</td>\n",
              "      <td>...</td>\n",
              "    </tr>\n",
              "    <tr>\n",
              "      <th>724</th>\n",
              "      <td>2015</td>\n",
              "      <td>Mercedes-Benz</td>\n",
              "      <td>Mercedes-Benz</td>\n",
              "      <td>GL 550 4MATIC</td>\n",
              "      <td>4.7</td>\n",
              "      <td>8</td>\n",
              "      <td>Auto</td>\n",
              "      <td>13</td>\n",
              "      <td>18</td>\n",
              "      <td>15</td>\n",
              "      <td>Turbocharged</td>\n",
              "      <td>Automatic</td>\n",
              "      <td>7</td>\n",
              "      <td>4-Wheel Drive</td>\n",
              "      <td>Standard SUV 4WD</td>\n",
              "      <td>2014-07-15</td>\n",
              "      <td>660</td>\n",
              "      <td>498</td>\n",
              "      <td>587</td>\n",
              "    </tr>\n",
              "    <tr>\n",
              "      <th>725</th>\n",
              "      <td>2015</td>\n",
              "      <td>Mercedes-Benz</td>\n",
              "      <td>Mercedes-Benz</td>\n",
              "      <td>ML 350 4MATIC</td>\n",
              "      <td>3.5</td>\n",
              "      <td>6</td>\n",
              "      <td>Auto</td>\n",
              "      <td>17</td>\n",
              "      <td>22</td>\n",
              "      <td>19</td>\n",
              "      <td>Naturally Aspirated</td>\n",
              "      <td>Automatic</td>\n",
              "      <td>7</td>\n",
              "      <td>4-Wheel Drive</td>\n",
              "      <td>Standard SUV 4WD</td>\n",
              "      <td>2014-07-15</td>\n",
              "      <td>506</td>\n",
              "      <td>396</td>\n",
              "      <td>456</td>\n",
              "    </tr>\n",
              "    <tr>\n",
              "      <th>726</th>\n",
              "      <td>2015</td>\n",
              "      <td>Mercedes-Benz</td>\n",
              "      <td>Mercedes-Benz</td>\n",
              "      <td>ML 350 4MATIC</td>\n",
              "      <td>3.5</td>\n",
              "      <td>6</td>\n",
              "      <td>Auto</td>\n",
              "      <td>17</td>\n",
              "      <td>22</td>\n",
              "      <td>19</td>\n",
              "      <td>Naturally Aspirated</td>\n",
              "      <td>Automatic</td>\n",
              "      <td>7</td>\n",
              "      <td>4-Wheel Drive</td>\n",
              "      <td>Standard SUV 4WD</td>\n",
              "      <td>2014-07-23</td>\n",
              "      <td>506</td>\n",
              "      <td>396</td>\n",
              "      <td>456</td>\n",
              "    </tr>\n",
              "    <tr>\n",
              "      <th>727</th>\n",
              "      <td>2015</td>\n",
              "      <td>Mercedes-Benz</td>\n",
              "      <td>Mercedes-Benz</td>\n",
              "      <td>ML 400 4MATIC</td>\n",
              "      <td>3.0</td>\n",
              "      <td>6</td>\n",
              "      <td>Auto</td>\n",
              "      <td>18</td>\n",
              "      <td>22</td>\n",
              "      <td>20</td>\n",
              "      <td>Turbocharged</td>\n",
              "      <td>Automatic</td>\n",
              "      <td>7</td>\n",
              "      <td>4-Wheel Drive</td>\n",
              "      <td>Standard SUV 4WD</td>\n",
              "      <td>2014-07-04</td>\n",
              "      <td>496</td>\n",
              "      <td>403</td>\n",
              "      <td>454</td>\n",
              "    </tr>\n",
              "    <tr>\n",
              "      <th>728</th>\n",
              "      <td>2015</td>\n",
              "      <td>Volkswagen Group of</td>\n",
              "      <td>Volkswagen</td>\n",
              "      <td>Touareg</td>\n",
              "      <td>3.6</td>\n",
              "      <td>6</td>\n",
              "      <td>Auto</td>\n",
              "      <td>17</td>\n",
              "      <td>23</td>\n",
              "      <td>19</td>\n",
              "      <td>Naturally Aspirated</td>\n",
              "      <td>Semi-Automatic</td>\n",
              "      <td>8</td>\n",
              "      <td>All Wheel Drive</td>\n",
              "      <td>Standard SUV 4WD</td>\n",
              "      <td>2014-08-01</td>\n",
              "      <td>520</td>\n",
              "      <td>391</td>\n",
              "      <td>462</td>\n",
              "    </tr>\n",
              "  </tbody>\n",
              "</table>\n",
              "<p>722 rows × 19 columns</p>\n",
              "</div>\n",
              "    <div class=\"colab-df-buttons\">\n",
              "\n",
              "  <div class=\"colab-df-container\">\n",
              "    <button class=\"colab-df-convert\" onclick=\"convertToInteractive('df-a442ceec-d04b-4241-babf-2e18d9b37a74')\"\n",
              "            title=\"Convert this dataframe to an interactive table.\"\n",
              "            style=\"display:none;\">\n",
              "\n",
              "  <svg xmlns=\"http://www.w3.org/2000/svg\" height=\"24px\" viewBox=\"0 -960 960 960\">\n",
              "    <path d=\"M120-120v-720h720v720H120Zm60-500h600v-160H180v160Zm220 220h160v-160H400v160Zm0 220h160v-160H400v160ZM180-400h160v-160H180v160Zm440 0h160v-160H620v160ZM180-180h160v-160H180v160Zm440 0h160v-160H620v160Z\"/>\n",
              "  </svg>\n",
              "    </button>\n",
              "\n",
              "  <style>\n",
              "    .colab-df-container {\n",
              "      display:flex;\n",
              "      gap: 12px;\n",
              "    }\n",
              "\n",
              "    .colab-df-convert {\n",
              "      background-color: #E8F0FE;\n",
              "      border: none;\n",
              "      border-radius: 50%;\n",
              "      cursor: pointer;\n",
              "      display: none;\n",
              "      fill: #1967D2;\n",
              "      height: 32px;\n",
              "      padding: 0 0 0 0;\n",
              "      width: 32px;\n",
              "    }\n",
              "\n",
              "    .colab-df-convert:hover {\n",
              "      background-color: #E2EBFA;\n",
              "      box-shadow: 0px 1px 2px rgba(60, 64, 67, 0.3), 0px 1px 3px 1px rgba(60, 64, 67, 0.15);\n",
              "      fill: #174EA6;\n",
              "    }\n",
              "\n",
              "    .colab-df-buttons div {\n",
              "      margin-bottom: 4px;\n",
              "    }\n",
              "\n",
              "    [theme=dark] .colab-df-convert {\n",
              "      background-color: #3B4455;\n",
              "      fill: #D2E3FC;\n",
              "    }\n",
              "\n",
              "    [theme=dark] .colab-df-convert:hover {\n",
              "      background-color: #434B5C;\n",
              "      box-shadow: 0px 1px 3px 1px rgba(0, 0, 0, 0.15);\n",
              "      filter: drop-shadow(0px 1px 2px rgba(0, 0, 0, 0.3));\n",
              "      fill: #FFFFFF;\n",
              "    }\n",
              "  </style>\n",
              "\n",
              "    <script>\n",
              "      const buttonEl =\n",
              "        document.querySelector('#df-a442ceec-d04b-4241-babf-2e18d9b37a74 button.colab-df-convert');\n",
              "      buttonEl.style.display =\n",
              "        google.colab.kernel.accessAllowed ? 'block' : 'none';\n",
              "\n",
              "      async function convertToInteractive(key) {\n",
              "        const element = document.querySelector('#df-a442ceec-d04b-4241-babf-2e18d9b37a74');\n",
              "        const dataTable =\n",
              "          await google.colab.kernel.invokeFunction('convertToInteractive',\n",
              "                                                    [key], {});\n",
              "        if (!dataTable) return;\n",
              "\n",
              "        const docLinkHtml = 'Like what you see? Visit the ' +\n",
              "          '<a target=\"_blank\" href=https://colab.research.google.com/notebooks/data_table.ipynb>data table notebook</a>'\n",
              "          + ' to learn more about interactive tables.';\n",
              "        element.innerHTML = '';\n",
              "        dataTable['output_type'] = 'display_data';\n",
              "        await google.colab.output.renderOutput(dataTable, element);\n",
              "        const docLink = document.createElement('div');\n",
              "        docLink.innerHTML = docLinkHtml;\n",
              "        element.appendChild(docLink);\n",
              "      }\n",
              "    </script>\n",
              "  </div>\n",
              "\n",
              "\n",
              "<div id=\"df-028b9238-2f68-4efa-ae6b-fb8a8f8ff7b4\">\n",
              "  <button class=\"colab-df-quickchart\" onclick=\"quickchart('df-028b9238-2f68-4efa-ae6b-fb8a8f8ff7b4')\"\n",
              "            title=\"Suggest charts.\"\n",
              "            style=\"display:none;\">\n",
              "\n",
              "<svg xmlns=\"http://www.w3.org/2000/svg\" height=\"24px\"viewBox=\"0 0 24 24\"\n",
              "     width=\"24px\">\n",
              "    <g>\n",
              "        <path d=\"M19 3H5c-1.1 0-2 .9-2 2v14c0 1.1.9 2 2 2h14c1.1 0 2-.9 2-2V5c0-1.1-.9-2-2-2zM9 17H7v-7h2v7zm4 0h-2V7h2v10zm4 0h-2v-4h2v4z\"/>\n",
              "    </g>\n",
              "</svg>\n",
              "  </button>\n",
              "\n",
              "<style>\n",
              "  .colab-df-quickchart {\n",
              "      --bg-color: #E8F0FE;\n",
              "      --fill-color: #1967D2;\n",
              "      --hover-bg-color: #E2EBFA;\n",
              "      --hover-fill-color: #174EA6;\n",
              "      --disabled-fill-color: #AAA;\n",
              "      --disabled-bg-color: #DDD;\n",
              "  }\n",
              "\n",
              "  [theme=dark] .colab-df-quickchart {\n",
              "      --bg-color: #3B4455;\n",
              "      --fill-color: #D2E3FC;\n",
              "      --hover-bg-color: #434B5C;\n",
              "      --hover-fill-color: #FFFFFF;\n",
              "      --disabled-bg-color: #3B4455;\n",
              "      --disabled-fill-color: #666;\n",
              "  }\n",
              "\n",
              "  .colab-df-quickchart {\n",
              "    background-color: var(--bg-color);\n",
              "    border: none;\n",
              "    border-radius: 50%;\n",
              "    cursor: pointer;\n",
              "    display: none;\n",
              "    fill: var(--fill-color);\n",
              "    height: 32px;\n",
              "    padding: 0;\n",
              "    width: 32px;\n",
              "  }\n",
              "\n",
              "  .colab-df-quickchart:hover {\n",
              "    background-color: var(--hover-bg-color);\n",
              "    box-shadow: 0 1px 2px rgba(60, 64, 67, 0.3), 0 1px 3px 1px rgba(60, 64, 67, 0.15);\n",
              "    fill: var(--button-hover-fill-color);\n",
              "  }\n",
              "\n",
              "  .colab-df-quickchart-complete:disabled,\n",
              "  .colab-df-quickchart-complete:disabled:hover {\n",
              "    background-color: var(--disabled-bg-color);\n",
              "    fill: var(--disabled-fill-color);\n",
              "    box-shadow: none;\n",
              "  }\n",
              "\n",
              "  .colab-df-spinner {\n",
              "    border: 2px solid var(--fill-color);\n",
              "    border-color: transparent;\n",
              "    border-bottom-color: var(--fill-color);\n",
              "    animation:\n",
              "      spin 1s steps(1) infinite;\n",
              "  }\n",
              "\n",
              "  @keyframes spin {\n",
              "    0% {\n",
              "      border-color: transparent;\n",
              "      border-bottom-color: var(--fill-color);\n",
              "      border-left-color: var(--fill-color);\n",
              "    }\n",
              "    20% {\n",
              "      border-color: transparent;\n",
              "      border-left-color: var(--fill-color);\n",
              "      border-top-color: var(--fill-color);\n",
              "    }\n",
              "    30% {\n",
              "      border-color: transparent;\n",
              "      border-left-color: var(--fill-color);\n",
              "      border-top-color: var(--fill-color);\n",
              "      border-right-color: var(--fill-color);\n",
              "    }\n",
              "    40% {\n",
              "      border-color: transparent;\n",
              "      border-right-color: var(--fill-color);\n",
              "      border-top-color: var(--fill-color);\n",
              "    }\n",
              "    60% {\n",
              "      border-color: transparent;\n",
              "      border-right-color: var(--fill-color);\n",
              "    }\n",
              "    80% {\n",
              "      border-color: transparent;\n",
              "      border-right-color: var(--fill-color);\n",
              "      border-bottom-color: var(--fill-color);\n",
              "    }\n",
              "    90% {\n",
              "      border-color: transparent;\n",
              "      border-bottom-color: var(--fill-color);\n",
              "    }\n",
              "  }\n",
              "</style>\n",
              "\n",
              "  <script>\n",
              "    async function quickchart(key) {\n",
              "      const quickchartButtonEl =\n",
              "        document.querySelector('#' + key + ' button');\n",
              "      quickchartButtonEl.disabled = true;  // To prevent multiple clicks.\n",
              "      quickchartButtonEl.classList.add('colab-df-spinner');\n",
              "      try {\n",
              "        const charts = await google.colab.kernel.invokeFunction(\n",
              "            'suggestCharts', [key], {});\n",
              "      } catch (error) {\n",
              "        console.error('Error during call to suggestCharts:', error);\n",
              "      }\n",
              "      quickchartButtonEl.classList.remove('colab-df-spinner');\n",
              "      quickchartButtonEl.classList.add('colab-df-quickchart-complete');\n",
              "    }\n",
              "    (() => {\n",
              "      let quickchartButtonEl =\n",
              "        document.querySelector('#df-028b9238-2f68-4efa-ae6b-fb8a8f8ff7b4 button');\n",
              "      quickchartButtonEl.style.display =\n",
              "        google.colab.kernel.accessAllowed ? 'block' : 'none';\n",
              "    })();\n",
              "  </script>\n",
              "</div>\n",
              "    </div>\n",
              "  </div>\n"
            ]
          },
          "metadata": {},
          "execution_count": 17
        }
      ]
    },
    {
      "cell_type": "markdown",
      "source": [
        "Revised data dataframe with 721 records, including headers = 722 rows"
      ],
      "metadata": {
        "id": "lUX2pyKa-qGC"
      }
    },
    {
      "cell_type": "markdown",
      "source": [
        "3.3 Test on Normality"
      ],
      "metadata": {
        "id": "ONv5mRKc1YCG"
      }
    },
    {
      "cell_type": "markdown",
      "source": [
        "3.3.1 Fuel Economy"
      ],
      "metadata": {
        "id": "icjeAH8TqRkz"
      }
    },
    {
      "cell_type": "code",
      "source": [
        "# Analysing and visual inspecting the shape of the graph for each variable\n",
        "# For research question #1 on fuel economy\n",
        "\n",
        "variables_to_analyze = [\"City FE\", \"Highway FE\", \"Combined FE\"]\n",
        "\n",
        "# Subplots is created for each variable\n",
        "fig, axes = plt.subplots(nrows=2, ncols=len(variables_to_analyze), figsize=(12, 6))\n",
        "\n",
        "# DataFrame to store the results\n",
        "results_df = pd.DataFrame(columns=[\"Variable\", \"Skewness\", \"Kurtosis\", \"Distribution\"])\n",
        "\n",
        "for i, var in enumerate(variables_to_analyze):\n",
        "    # Calculate skewness and kurtosis\n",
        "    skewness = skew(cartype_df[var])\n",
        "    kurt = kurtosis(cartype_df[var])\n",
        "\n",
        "    # First histogram to visualise skewness of each variable\n",
        "    axes[0, i].hist(cartype_df[var], bins=20, color='blue', alpha=0.7)\n",
        "    axes[0, i].set_title(f\"{var}\\nSkewness: {skewness:.2f}\")\n",
        "\n",
        "    # Second histogram to visualise kurtosis\n",
        "    axes[1, i].hist(cartype_df[var], bins=20, color='green', alpha=0.7)\n",
        "    axes[1, i].set_title(f\"Kurtosis: {kurt:.2f}\")\n",
        "\n",
        "    # Conditional set for distribution type based on skewness and kurtosis with indications of the results\n",
        "    if -0.5 <= skewness <= 0.5 and -2 <= kurt <= 2:\n",
        "        distribution = \"Approximately Normally Distributed\"\n",
        "    else:\n",
        "        distribution = \"Not Normally Distributed\"\n",
        "\n",
        "    result = pd.DataFrame({\"Variable\": [var], \"Skewness\": [skewness], \"Kurtosis\": [kurt], \"Distribution\": [distribution]})\n",
        "\n",
        "    # Concatenate the result to the results_df\n",
        "    results_df = pd.concat([results_df, result], ignore_index=True)\n",
        "\n",
        "# Adjust plot layout\n",
        "plt.tight_layout()\n",
        "\n",
        "# Display the result in table\n",
        "print(results_df)\n",
        "\n",
        "# Show the plots\n",
        "plt.show()\n"
      ],
      "metadata": {
        "colab": {
          "base_uri": "https://localhost:8080/",
          "height": 676
        },
        "outputId": "fbe152a2-95cd-46d3-b3ef-0d46cfcf1ad9",
        "id": "ACdf7hoOmzKn"
      },
      "execution_count": null,
      "outputs": [
        {
          "output_type": "stream",
          "name": "stdout",
          "text": [
            "      Variable  Skewness  Kurtosis                        Distribution\n",
            "0      City FE   0.68926   1.12583            Not Normally Distributed\n",
            "1   Highway FE   0.25336  -0.23374  Approximately Normally Distributed\n",
            "2  Combined FE   0.41603   0.15938  Approximately Normally Distributed\n"
          ]
        },
        {
          "output_type": "display_data",
          "data": {
            "text/plain": [
              "<Figure size 1200x600 with 6 Axes>"
            ],
            "image/png": "[encoded data removed]"
          },
          "metadata": {}
        }
      ]
    },
    {
      "cell_type": "markdown",
      "source": [
        "Analysis:\n",
        "*   All variables are positively skewed and heavier tail on the right.\n",
        "*   Result of the skewness and kurtosis showing City FE is not normally distributed, whereby both Highway FE and Combined FE are approximately normal.\n",
        "* This should be further proven by Shapiro-Wilk Normality Test to confirm normality.\n",
        "\n"
      ],
      "metadata": {
        "id": "4Qdfu5Oon-ho"
      }
    },
    {
      "cell_type": "code",
      "source": [
        "# Shapiro-Wilk Normality test\n",
        "variables_to_analyze = [\"City FE\", \"Highway FE\", \"Combined FE\"]\n",
        "\n",
        "# DataFrame to store the results\n",
        "results_list = []\n",
        "\n",
        "for var in variables_to_analyze:\n",
        "    stat, p = shapiro(cartype_df[var])\n",
        "    if p > 0.05:\n",
        "        message = \"Normally distributed\"\n",
        "    else:\n",
        "        message = \"Not normally distributed\"\n",
        "    result = pd.DataFrame({\"Variable\": [var], \"stat\": [stat], \"p value\": [p], \"Message\": [message]})\n",
        "    results_list.append(result)\n",
        "\n",
        "# Concatenate the results into a DataFrame\n",
        "results_df = pd.concat(results_list, ignore_index=True)\n",
        "\n",
        "# Display the result in a table\n",
        "print(results_df)\n"
      ],
      "metadata": {
        "colab": {
          "base_uri": "https://localhost:8080/"
        },
        "id": "-Gnt7HfVspcA",
        "outputId": "790c365a-b48d-453d-d361-2c2703073ded"
      },
      "execution_count": null,
      "outputs": [
        {
          "output_type": "stream",
          "name": "stdout",
          "text": [
            "      Variable    stat  p value                   Message\n",
            "0      City FE 0.97039  0.00000  Not normally distributed\n",
            "1   Highway FE 0.99052  0.00013  Not normally distributed\n",
            "2  Combined FE 0.98420  0.00000  Not normally distributed\n"
          ]
        }
      ]
    },
    {
      "cell_type": "markdown",
      "source": [
        "To conclude, City, Highway, Combined FE are not normally distributed as the p value <0.05 resulted from Shapiro-Wilk Normality test.\n"
      ],
      "metadata": {
        "id": "NPKOb_vFthsu"
      }
    },
    {
      "cell_type": "markdown",
      "source": [
        "3.3.2 CO2 (Carbon emissions)"
      ],
      "metadata": {
        "id": "efKZ-SgwvBP1"
      }
    },
    {
      "cell_type": "code",
      "source": [
        "# Analysing and visual inspecting the shape of the graph for each variable\n",
        "# For research question #2 on carbon emissions - environmental friendly model\n",
        "\n",
        "variables_to_analyze = [\"City CO2\", \"Highway CO2\", \"Combined CO2\"]\n",
        "\n",
        "# Subplots is created for each variable\n",
        "fig, axes = plt.subplots(nrows=2, ncols=len(variables_to_analyze), figsize=(12, 6))\n",
        "\n",
        "# DataFrame to store the results\n",
        "results_df = pd.DataFrame(columns=[\"Variable\", \"Skewness\", \"Kurtosis\", \"Distribution\"])\n",
        "\n",
        "for i, var in enumerate(variables_to_analyze):\n",
        "    # Calculate skewness and kurtosis\n",
        "    skewness = skew(cartype_df[var])\n",
        "    kurt = kurtosis(cartype_df[var])\n",
        "\n",
        "    # First histogram to visualise skewness of each variable\n",
        "    axes[0, i].hist(cartype_df[var], bins=20, color='blue', alpha=0.7)\n",
        "    axes[0, i].set_title(f\"{var}\\nSkewness: {skewness:.2f}\")\n",
        "\n",
        "    # Second histogram to visualise kurtosis\n",
        "    axes[1, i].hist(cartype_df[var], bins=20, color='green', alpha=0.7)\n",
        "    axes[1, i].set_title(f\"Kurtosis: {kurt:.2f}\")\n",
        "\n",
        "    # Conditional set for distribution type based on skewness and kurtosis with indications of the results\n",
        "    if -0.5 <= skewness <= 0.5 and -2 <= kurt <= 2:\n",
        "        distribution = \"Approximately Normally Distributed\"\n",
        "    else:\n",
        "        distribution = \"Not Normally Distributed\"\n",
        "\n",
        "    result = pd.DataFrame({\"Variable\": [var], \"Skewness\": [skewness], \"Kurtosis\": [kurt], \"Distribution\": [distribution]})\n",
        "\n",
        "    # Concatenate the result to the results_df\n",
        "    results_df = pd.concat([results_df, result], ignore_index=True)\n",
        "\n",
        "# Adjust plot layout\n",
        "plt.tight_layout()\n",
        "\n",
        "# Display the result in table\n",
        "print(results_df)\n",
        "\n",
        "# Show the plots\n",
        "plt.show()\n"
      ],
      "metadata": {
        "colab": {
          "base_uri": "https://localhost:8080/",
          "height": 676
        },
        "id": "b5XYT5G2deB9",
        "outputId": "9507a73e-928f-4c72-bd42-1c939a41636d"
      },
      "execution_count": null,
      "outputs": [
        {
          "output_type": "stream",
          "name": "stdout",
          "text": [
            "       Variable  Skewness  Kurtosis              Distribution\n",
            "0      City CO2   0.98732   1.62420  Not Normally Distributed\n",
            "1   Highway CO2   0.97398   1.28014  Not Normally Distributed\n",
            "2  Combined CO2   0.99273   1.51123  Not Normally Distributed\n"
          ]
        },
        {
          "output_type": "display_data",
          "data": {
            "text/plain": [
              "<Figure size 1200x600 with 6 Axes>"
            ],
            "image/png": "[encoded data removed]"
          },
          "metadata": {}
        }
      ]
    },
    {
      "cell_type": "markdown",
      "source": [
        "Analysis:\n",
        "*   All variables are positively skewed and heavier tail on the right.\n",
        "*   Result of the skewness and kurtosis all CO2 variables are not normally distributed.\n",
        "* This should be further proven by Shapiro-Wilk Normality Test to confirm normality as below.\n"
      ],
      "metadata": {
        "id": "skqUYnumyhK2"
      }
    },
    {
      "cell_type": "code",
      "source": [
        "# Shapiro-Wilk Normality test\n",
        "# Create a DataFrame to store the results\n",
        "normality_results = pd.DataFrame(columns=[\"Variable\", \"Shapiro Statistic\", \"p-value\", \"Normality\"])\n",
        "\n",
        "# List of variables to test for normality\n",
        "variables_to_test = [\"City FE\", \"Highway FE\", \"Combined FE\"]\n",
        "\n",
        "results_list = []\n",
        "\n",
        "# Loop through each variable and perform the Shapiro-Wilk test\n",
        "for var in variables_to_test:\n",
        "    stat, p = shapiro(cartype_df[var])\n",
        "\n",
        "    if p > 0.05:\n",
        "        normality = \"Normally Distributed\"\n",
        "    else:\n",
        "        normality = \"Not Normally Distributed\"\n",
        "\n",
        "    results_list.append(pd.DataFrame({\"Variable\": [var], \"Shapiro Statistic\": [stat], \"p-value\": [p], \"Normality\": [normality]}))\n",
        "\n",
        "# Concatenate the individual results DataFrames into one\n",
        "normality_results = pd.concat(results_list, ignore_index=True)\n",
        "\n",
        "# Display the results in a table\n",
        "print(normality_results)\n"
      ],
      "metadata": {
        "colab": {
          "base_uri": "https://localhost:8080/"
        },
        "id": "6RBcH_AI3ic3",
        "outputId": "2fe869fb-02d3-4c56-ce7c-12287032a753"
      },
      "execution_count": null,
      "outputs": [
        {
          "output_type": "stream",
          "name": "stdout",
          "text": [
            "      Variable  Shapiro Statistic  p-value                 Normality\n",
            "0      City FE            0.97039  0.00000  Not Normally Distributed\n",
            "1   Highway FE            0.99052  0.00013  Not Normally Distributed\n",
            "2  Combined FE            0.98420  0.00000  Not Normally Distributed\n"
          ]
        }
      ]
    },
    {
      "cell_type": "markdown",
      "source": [
        "To conclude, City, Highway, Combined FE are not normally distributed as the p value <0.05 resulted from Shapiro-Wilk Normality test."
      ],
      "metadata": {
        "id": "yYL3nOPvzZzH"
      }
    },
    {
      "cell_type": "markdown",
      "source": [
        "3.4 Identifying outliers using boxplot"
      ],
      "metadata": {
        "id": "DKHrHLChDgiP"
      }
    },
    {
      "cell_type": "markdown",
      "source": [
        "3.4.1 Fuel Economy"
      ],
      "metadata": {
        "id": "udfQjvbldTYo"
      }
    },
    {
      "cell_type": "code",
      "source": [
        "# City FE\n",
        "sns.boxplot(y=cartype_df['City FE'])"
      ],
      "metadata": {
        "colab": {
          "base_uri": "https://localhost:8080/",
          "height": 428
        },
        "id": "RxtHUMeJcqBC",
        "outputId": "017b6194-4391-4b07-9f4f-fb48e77a22de"
      },
      "execution_count": null,
      "outputs": [
        {
          "output_type": "execute_result",
          "data": {
            "text/plain": [
              "<Axes: ylabel='City FE'>"
            ]
          },
          "metadata": {},
          "execution_count": 18
        },
        {
          "output_type": "display_data",
          "data": {
            "text/plain": [
              "<Figure size 640x480 with 1 Axes>"
            ],
            "image/png": "[encoded data removed]"
          },
          "metadata": {}
        }
      ]
    },
    {
      "cell_type": "code",
      "source": [
        "# Highway FE\n",
        "sns.boxplot(y=cartype_df['Highway FE'])"
      ],
      "metadata": {
        "colab": {
          "base_uri": "https://localhost:8080/",
          "height": 428
        },
        "outputId": "da25d809-d10b-4c2f-f57a-23cba1cfdb4d",
        "id": "zj8vZ8qHdZWP"
      },
      "execution_count": null,
      "outputs": [
        {
          "output_type": "execute_result",
          "data": {
            "text/plain": [
              "<Axes: ylabel='Highway FE'>"
            ]
          },
          "metadata": {},
          "execution_count": 19
        },
        {
          "output_type": "display_data",
          "data": {
            "text/plain": [
              "<Figure size 640x480 with 1 Axes>"
            ],
            "image/png": "[encoded data removed]"
          },
          "metadata": {}
        }
      ]
    },
    {
      "cell_type": "code",
      "source": [
        "# Combined FE\n",
        "sns.boxplot(y=cartype_df['Combined FE'])"
      ],
      "metadata": {
        "colab": {
          "base_uri": "https://localhost:8080/",
          "height": 428
        },
        "outputId": "1a09317f-0fda-42eb-d51f-b48208f37a88",
        "id": "jnWCPoxBdkti"
      },
      "execution_count": null,
      "outputs": [
        {
          "output_type": "execute_result",
          "data": {
            "text/plain": [
              "<Axes: ylabel='Combined FE'>"
            ]
          },
          "metadata": {},
          "execution_count": 20
        },
        {
          "output_type": "display_data",
          "data": {
            "text/plain": [
              "<Figure size 640x480 with 1 Axes>"
            ],
            "image/png": "[encoded data removed]"
          },
          "metadata": {}
        }
      ]
    },
    {
      "cell_type": "markdown",
      "source": [
        "Analysis- FE\n",
        "*   City FE: Outliers lie above 33 miles per gallon (mpg)\n",
        "*   Highway and Combined FE: Outliers are >40mpg  \n",
        "\n"
      ],
      "metadata": {
        "id": "-NiIsdYad-Kz"
      }
    },
    {
      "cell_type": "markdown",
      "source": [
        "3.4.2 CO2 (Carbon emissions)"
      ],
      "metadata": {
        "id": "QUNgg78qfkRz"
      }
    },
    {
      "cell_type": "code",
      "source": [
        "# City CO2\n",
        "sns.boxplot(y=cartype_df['City CO2'])"
      ],
      "metadata": {
        "colab": {
          "base_uri": "https://localhost:8080/",
          "height": 428
        },
        "outputId": "d06b93b4-4721-4e38-c998-9052e09bbf9b",
        "id": "qOYYuPzVfxoW"
      },
      "execution_count": null,
      "outputs": [
        {
          "output_type": "execute_result",
          "data": {
            "text/plain": [
              "<Axes: ylabel='City CO2'>"
            ]
          },
          "metadata": {},
          "execution_count": 21
        },
        {
          "output_type": "display_data",
          "data": {
            "text/plain": [
              "<Figure size 640x480 with 1 Axes>"
            ],
            "image/png": "[encoded data removed]"
          },
          "metadata": {}
        }
      ]
    },
    {
      "cell_type": "code",
      "source": [
        "#  Highway CO2\n",
        "sns.boxplot(y=cartype_df['Highway CO2'])"
      ],
      "metadata": {
        "colab": {
          "base_uri": "https://localhost:8080/",
          "height": 428
        },
        "outputId": "d06b93b4-4721-4e38-c998-9052e09bbf9b",
        "id": "1PZgkgjKglmk"
      },
      "execution_count": null,
      "outputs": [
        {
          "output_type": "execute_result",
          "data": {
            "text/plain": [
              "<Axes: ylabel='City CO2'>"
            ]
          },
          "metadata": {},
          "execution_count": 21
        },
        {
          "output_type": "display_data",
          "data": {
            "text/plain": [
              "<Figure size 640x480 with 1 Axes>"
            ],
            "image/png": "[encoded data removed]"
          },
          "metadata": {}
        }
      ]
    },
    {
      "cell_type": "code",
      "source": [
        "#  Combined CO2\n",
        "sns.boxplot(y=cartype_df['Combined CO2'])"
      ],
      "metadata": {
        "colab": {
          "base_uri": "https://localhost:8080/",
          "height": 428
        },
        "id": "zE0YeCn9h_eo",
        "outputId": "512da008-88c2-4247-f718-c8b84ca0950a"
      },
      "execution_count": null,
      "outputs": [
        {
          "output_type": "execute_result",
          "data": {
            "text/plain": [
              "<Axes: ylabel='Combined CO2'>"
            ]
          },
          "metadata": {},
          "execution_count": 23
        },
        {
          "output_type": "display_data",
          "data": {
            "text/plain": [
              "<Figure size 640x480 with 1 Axes>"
            ],
            "image/png": "[encoded data removed]"
          },
          "metadata": {}
        }
      ]
    },
    {
      "cell_type": "markdown",
      "source": [
        "Analysis- CO2\n",
        "\n",
        "*   City CO2 and Highway CO2 showed data points that are approx. >780 gallons per mile (gpm) are outliers\n",
        "*   Outliers for Combined CO2 are data points above approx. 670gpm.\n",
        "\n"
      ],
      "metadata": {
        "id": "MjdppXyIijDX"
      }
    },
    {
      "cell_type": "markdown",
      "source": [
        "All outliers are retained, no separate treatments are performed to the entirety of the dataset, and justifications are as below:\n",
        "\n",
        "*  Research questions are studying the best FE and the highest CO2 emissions of different car models, with different specifications. Extreme observations are expected, not true outliers. Removals may lose sights for the result.\n",
        "* The dataset was made up of ununiformed specifications of different car models and carlines, it is fairer if outliers analysis performed by carline category.  \n",
        "* Separate treatments on outliers in this context is not necessary, as it does not bring differences or add deeper meaning to the results.\n",
        "\n",
        "\n",
        "\n",
        "\n",
        "\n"
      ],
      "metadata": {
        "id": "QW5xez6ikGBB"
      }
    },
    {
      "cell_type": "markdown",
      "source": [
        "# **4. Descriptive Statistics**\n",
        "\n",
        "\n"
      ],
      "metadata": {
        "id": "nT1b0Fbklf9m"
      }
    },
    {
      "cell_type": "code",
      "source": [
        "cartype_df.describe()"
      ],
      "metadata": {
        "colab": {
          "base_uri": "https://localhost:8080/",
          "height": 300
        },
        "id": "iWJeaGoTkxXj",
        "outputId": "ae74906f-7cdf-4570-f288-5d5a56c60d9a"
      },
      "execution_count": null,
      "outputs": [
        {
          "output_type": "execute_result",
          "data": {
            "text/plain": [
              "       Model Year  Engine Displacement  # Cylinders     City FE  Highway FE  \\\n",
              "count       722.0           722.000000   722.000000  722.000000  722.000000   \n",
              "mean       2015.0             3.150139     5.632964   20.094183   28.254848   \n",
              "std           0.0             1.352454     1.806805    4.930529    5.786194   \n",
              "min        2015.0             1.000000     3.000000    8.000000   15.000000   \n",
              "25%        2015.0             2.000000     4.000000   17.000000   24.000000   \n",
              "50%        2015.0             3.000000     6.000000   19.500000   28.000000   \n",
              "75%        2015.0             3.700000     6.000000   23.000000   32.000000   \n",
              "max        2015.0             8.000000    16.000000   44.000000   46.000000   \n",
              "\n",
              "       Combined FE     # Gears     City CO2  Highway CO2  Combined CO2  \n",
              "count   722.000000  722.000000   722.000000   722.000000    722.000000  \n",
              "mean     23.040166    6.472299   470.173130   329.343490    406.753463  \n",
              "std       5.227400    1.168202   119.249696    71.191083     96.484792  \n",
              "min      10.000000    1.000000   202.000000   199.000000    209.000000  \n",
              "25%      19.000000    6.000000   382.000000   277.000000    337.000000  \n",
              "50%      23.000000    6.000000   453.500000   319.000000    393.000000  \n",
              "75%      27.000000    7.000000   536.000000   369.750000    461.000000  \n",
              "max      42.000000    9.000000  1050.000000   599.000000    847.000000  "
            ],
            "text/html": [
              "\n",
              "  <div id=\"df-f427ea8b-d5f3-4e33-879a-b851b8949f09\" class=\"colab-df-container\">\n",
              "    <div>\n",
              "<style scoped>\n",
              "    .dataframe tbody tr th:only-of-type {\n",
              "        vertical-align: middle;\n",
              "    }\n",
              "\n",
              "    .dataframe tbody tr th {\n",
              "        vertical-align: top;\n",
              "    }\n",
              "\n",
              "    .dataframe thead th {\n",
              "        text-align: right;\n",
              "    }\n",
              "</style>\n",
              "<table border=\"1\" class=\"dataframe\">\n",
              "  <thead>\n",
              "    <tr style=\"text-align: right;\">\n",
              "      <th></th>\n",
              "      <th>Model Year</th>\n",
              "      <th>Engine Displacement</th>\n",
              "      <th># Cylinders</th>\n",
              "      <th>City FE</th>\n",
              "      <th>Highway FE</th>\n",
              "      <th>Combined FE</th>\n",
              "      <th># Gears</th>\n",
              "      <th>City CO2</th>\n",
              "      <th>Highway CO2</th>\n",
              "      <th>Combined CO2</th>\n",
              "    </tr>\n",
              "  </thead>\n",
              "  <tbody>\n",
              "    <tr>\n",
              "      <th>count</th>\n",
              "      <td>722.0</td>\n",
              "      <td>722.000000</td>\n",
              "      <td>722.000000</td>\n",
              "      <td>722.000000</td>\n",
              "      <td>722.000000</td>\n",
              "      <td>722.000000</td>\n",
              "      <td>722.000000</td>\n",
              "      <td>722.000000</td>\n",
              "      <td>722.000000</td>\n",
              "      <td>722.000000</td>\n",
              "    </tr>\n",
              "    <tr>\n",
              "      <th>mean</th>\n",
              "      <td>2015.0</td>\n",
              "      <td>3.150139</td>\n",
              "      <td>5.632964</td>\n",
              "      <td>20.094183</td>\n",
              "      <td>28.254848</td>\n",
              "      <td>23.040166</td>\n",
              "      <td>6.472299</td>\n",
              "      <td>470.173130</td>\n",
              "      <td>329.343490</td>\n",
              "      <td>406.753463</td>\n",
              "    </tr>\n",
              "    <tr>\n",
              "      <th>std</th>\n",
              "      <td>0.0</td>\n",
              "      <td>1.352454</td>\n",
              "      <td>1.806805</td>\n",
              "      <td>4.930529</td>\n",
              "      <td>5.786194</td>\n",
              "      <td>5.227400</td>\n",
              "      <td>1.168202</td>\n",
              "      <td>119.249696</td>\n",
              "      <td>71.191083</td>\n",
              "      <td>96.484792</td>\n",
              "    </tr>\n",
              "    <tr>\n",
              "      <th>min</th>\n",
              "      <td>2015.0</td>\n",
              "      <td>1.000000</td>\n",
              "      <td>3.000000</td>\n",
              "      <td>8.000000</td>\n",
              "      <td>15.000000</td>\n",
              "      <td>10.000000</td>\n",
              "      <td>1.000000</td>\n",
              "      <td>202.000000</td>\n",
              "      <td>199.000000</td>\n",
              "      <td>209.000000</td>\n",
              "    </tr>\n",
              "    <tr>\n",
              "      <th>25%</th>\n",
              "      <td>2015.0</td>\n",
              "      <td>2.000000</td>\n",
              "      <td>4.000000</td>\n",
              "      <td>17.000000</td>\n",
              "      <td>24.000000</td>\n",
              "      <td>19.000000</td>\n",
              "      <td>6.000000</td>\n",
              "      <td>382.000000</td>\n",
              "      <td>277.000000</td>\n",
              "      <td>337.000000</td>\n",
              "    </tr>\n",
              "    <tr>\n",
              "      <th>50%</th>\n",
              "      <td>2015.0</td>\n",
              "      <td>3.000000</td>\n",
              "      <td>6.000000</td>\n",
              "      <td>19.500000</td>\n",
              "      <td>28.000000</td>\n",
              "      <td>23.000000</td>\n",
              "      <td>6.000000</td>\n",
              "      <td>453.500000</td>\n",
              "      <td>319.000000</td>\n",
              "      <td>393.000000</td>\n",
              "    </tr>\n",
              "    <tr>\n",
              "      <th>75%</th>\n",
              "      <td>2015.0</td>\n",
              "      <td>3.700000</td>\n",
              "      <td>6.000000</td>\n",
              "      <td>23.000000</td>\n",
              "      <td>32.000000</td>\n",
              "      <td>27.000000</td>\n",
              "      <td>7.000000</td>\n",
              "      <td>536.000000</td>\n",
              "      <td>369.750000</td>\n",
              "      <td>461.000000</td>\n",
              "    </tr>\n",
              "    <tr>\n",
              "      <th>max</th>\n",
              "      <td>2015.0</td>\n",
              "      <td>8.000000</td>\n",
              "      <td>16.000000</td>\n",
              "      <td>44.000000</td>\n",
              "      <td>46.000000</td>\n",
              "      <td>42.000000</td>\n",
              "      <td>9.000000</td>\n",
              "      <td>1050.000000</td>\n",
              "      <td>599.000000</td>\n",
              "      <td>847.000000</td>\n",
              "    </tr>\n",
              "  </tbody>\n",
              "</table>\n",
              "</div>\n",
              "    <div class=\"colab-df-buttons\">\n",
              "\n",
              "  <div class=\"colab-df-container\">\n",
              "    <button class=\"colab-df-convert\" onclick=\"convertToInteractive('df-f427ea8b-d5f3-4e33-879a-b851b8949f09')\"\n",
              "            title=\"Convert this dataframe to an interactive table.\"\n",
              "            style=\"display:none;\">\n",
              "\n",
              "  <svg xmlns=\"http://www.w3.org/2000/svg\" height=\"24px\" viewBox=\"0 -960 960 960\">\n",
              "    <path d=\"M120-120v-720h720v720H120Zm60-500h600v-160H180v160Zm220 220h160v-160H400v160Zm0 220h160v-160H400v160ZM180-400h160v-160H180v160Zm440 0h160v-160H620v160ZM180-180h160v-160H180v160Zm440 0h160v-160H620v160Z\"/>\n",
              "  </svg>\n",
              "    </button>\n",
              "\n",
              "  <style>\n",
              "    .colab-df-container {\n",
              "      display:flex;\n",
              "      gap: 12px;\n",
              "    }\n",
              "\n",
              "    .colab-df-convert {\n",
              "      background-color: #E8F0FE;\n",
              "      border: none;\n",
              "      border-radius: 50%;\n",
              "      cursor: pointer;\n",
              "      display: none;\n",
              "      fill: #1967D2;\n",
              "      height: 32px;\n",
              "      padding: 0 0 0 0;\n",
              "      width: 32px;\n",
              "    }\n",
              "\n",
              "    .colab-df-convert:hover {\n",
              "      background-color: #E2EBFA;\n",
              "      box-shadow: 0px 1px 2px rgba(60, 64, 67, 0.3), 0px 1px 3px 1px rgba(60, 64, 67, 0.15);\n",
              "      fill: #174EA6;\n",
              "    }\n",
              "\n",
              "    .colab-df-buttons div {\n",
              "      margin-bottom: 4px;\n",
              "    }\n",
              "\n",
              "    [theme=dark] .colab-df-convert {\n",
              "      background-color: #3B4455;\n",
              "      fill: #D2E3FC;\n",
              "    }\n",
              "\n",
              "    [theme=dark] .colab-df-convert:hover {\n",
              "      background-color: #434B5C;\n",
              "      box-shadow: 0px 1px 3px 1px rgba(0, 0, 0, 0.15);\n",
              "      filter: drop-shadow(0px 1px 2px rgba(0, 0, 0, 0.3));\n",
              "      fill: #FFFFFF;\n",
              "    }\n",
              "  </style>\n",
              "\n",
              "    <script>\n",
              "      const buttonEl =\n",
              "        document.querySelector('#df-f427ea8b-d5f3-4e33-879a-b851b8949f09 button.colab-df-convert');\n",
              "      buttonEl.style.display =\n",
              "        google.colab.kernel.accessAllowed ? 'block' : 'none';\n",
              "\n",
              "      async function convertToInteractive(key) {\n",
              "        const element = document.querySelector('#df-f427ea8b-d5f3-4e33-879a-b851b8949f09');\n",
              "        const dataTable =\n",
              "          await google.colab.kernel.invokeFunction('convertToInteractive',\n",
              "                                                    [key], {});\n",
              "        if (!dataTable) return;\n",
              "\n",
              "        const docLinkHtml = 'Like what you see? Visit the ' +\n",
              "          '<a target=\"_blank\" href=https://colab.research.google.com/notebooks/data_table.ipynb>data table notebook</a>'\n",
              "          + ' to learn more about interactive tables.';\n",
              "        element.innerHTML = '';\n",
              "        dataTable['output_type'] = 'display_data';\n",
              "        await google.colab.output.renderOutput(dataTable, element);\n",
              "        const docLink = document.createElement('div');\n",
              "        docLink.innerHTML = docLinkHtml;\n",
              "        element.appendChild(docLink);\n",
              "      }\n",
              "    </script>\n",
              "  </div>\n",
              "\n",
              "\n",
              "<div id=\"df-d89f5367-53a0-4cad-99d2-b3968823779b\">\n",
              "  <button class=\"colab-df-quickchart\" onclick=\"quickchart('df-d89f5367-53a0-4cad-99d2-b3968823779b')\"\n",
              "            title=\"Suggest charts.\"\n",
              "            style=\"display:none;\">\n",
              "\n",
              "<svg xmlns=\"http://www.w3.org/2000/svg\" height=\"24px\"viewBox=\"0 0 24 24\"\n",
              "     width=\"24px\">\n",
              "    <g>\n",
              "        <path d=\"M19 3H5c-1.1 0-2 .9-2 2v14c0 1.1.9 2 2 2h14c1.1 0 2-.9 2-2V5c0-1.1-.9-2-2-2zM9 17H7v-7h2v7zm4 0h-2V7h2v10zm4 0h-2v-4h2v4z\"/>\n",
              "    </g>\n",
              "</svg>\n",
              "  </button>\n",
              "\n",
              "<style>\n",
              "  .colab-df-quickchart {\n",
              "      --bg-color: #E8F0FE;\n",
              "      --fill-color: #1967D2;\n",
              "      --hover-bg-color: #E2EBFA;\n",
              "      --hover-fill-color: #174EA6;\n",
              "      --disabled-fill-color: #AAA;\n",
              "      --disabled-bg-color: #DDD;\n",
              "  }\n",
              "\n",
              "  [theme=dark] .colab-df-quickchart {\n",
              "      --bg-color: #3B4455;\n",
              "      --fill-color: #D2E3FC;\n",
              "      --hover-bg-color: #434B5C;\n",
              "      --hover-fill-color: #FFFFFF;\n",
              "      --disabled-bg-color: #3B4455;\n",
              "      --disabled-fill-color: #666;\n",
              "  }\n",
              "\n",
              "  .colab-df-quickchart {\n",
              "    background-color: var(--bg-color);\n",
              "    border: none;\n",
              "    border-radius: 50%;\n",
              "    cursor: pointer;\n",
              "    display: none;\n",
              "    fill: var(--fill-color);\n",
              "    height: 32px;\n",
              "    padding: 0;\n",
              "    width: 32px;\n",
              "  }\n",
              "\n",
              "  .colab-df-quickchart:hover {\n",
              "    background-color: var(--hover-bg-color);\n",
              "    box-shadow: 0 1px 2px rgba(60, 64, 67, 0.3), 0 1px 3px 1px rgba(60, 64, 67, 0.15);\n",
              "    fill: var(--button-hover-fill-color);\n",
              "  }\n",
              "\n",
              "  .colab-df-quickchart-complete:disabled,\n",
              "  .colab-df-quickchart-complete:disabled:hover {\n",
              "    background-color: var(--disabled-bg-color);\n",
              "    fill: var(--disabled-fill-color);\n",
              "    box-shadow: none;\n",
              "  }\n",
              "\n",
              "  .colab-df-spinner {\n",
              "    border: 2px solid var(--fill-color);\n",
              "    border-color: transparent;\n",
              "    border-bottom-color: var(--fill-color);\n",
              "    animation:\n",
              "      spin 1s steps(1) infinite;\n",
              "  }\n",
              "\n",
              "  @keyframes spin {\n",
              "    0% {\n",
              "      border-color: transparent;\n",
              "      border-bottom-color: var(--fill-color);\n",
              "      border-left-color: var(--fill-color);\n",
              "    }\n",
              "    20% {\n",
              "      border-color: transparent;\n",
              "      border-left-color: var(--fill-color);\n",
              "      border-top-color: var(--fill-color);\n",
              "    }\n",
              "    30% {\n",
              "      border-color: transparent;\n",
              "      border-left-color: var(--fill-color);\n",
              "      border-top-color: var(--fill-color);\n",
              "      border-right-color: var(--fill-color);\n",
              "    }\n",
              "    40% {\n",
              "      border-color: transparent;\n",
              "      border-right-color: var(--fill-color);\n",
              "      border-top-color: var(--fill-color);\n",
              "    }\n",
              "    60% {\n",
              "      border-color: transparent;\n",
              "      border-right-color: var(--fill-color);\n",
              "    }\n",
              "    80% {\n",
              "      border-color: transparent;\n",
              "      border-right-color: var(--fill-color);\n",
              "      border-bottom-color: var(--fill-color);\n",
              "    }\n",
              "    90% {\n",
              "      border-color: transparent;\n",
              "      border-bottom-color: var(--fill-color);\n",
              "    }\n",
              "  }\n",
              "</style>\n",
              "\n",
              "  <script>\n",
              "    async function quickchart(key) {\n",
              "      const quickchartButtonEl =\n",
              "        document.querySelector('#' + key + ' button');\n",
              "      quickchartButtonEl.disabled = true;  // To prevent multiple clicks.\n",
              "      quickchartButtonEl.classList.add('colab-df-spinner');\n",
              "      try {\n",
              "        const charts = await google.colab.kernel.invokeFunction(\n",
              "            'suggestCharts', [key], {});\n",
              "      } catch (error) {\n",
              "        console.error('Error during call to suggestCharts:', error);\n",
              "      }\n",
              "      quickchartButtonEl.classList.remove('colab-df-spinner');\n",
              "      quickchartButtonEl.classList.add('colab-df-quickchart-complete');\n",
              "    }\n",
              "    (() => {\n",
              "      let quickchartButtonEl =\n",
              "        document.querySelector('#df-d89f5367-53a0-4cad-99d2-b3968823779b button');\n",
              "      quickchartButtonEl.style.display =\n",
              "        google.colab.kernel.accessAllowed ? 'block' : 'none';\n",
              "    })();\n",
              "  </script>\n",
              "</div>\n",
              "    </div>\n",
              "  </div>\n"
            ]
          },
          "metadata": {},
          "execution_count": 24
        }
      ]
    },
    {
      "cell_type": "markdown",
      "source": [
        "Measure of Central Tendency"
      ],
      "metadata": {
        "id": "pzsa8iCBtJdL"
      }
    },
    {
      "cell_type": "code",
      "source": [
        "# Calculate the mean, median, mode for FE\n",
        "columns_to_analyze = [\"City FE\", \"Highway FE\", \"Combined FE\"]\n",
        "\n",
        "# Calculate the mean, median, and mode for each variable\n",
        "central_tendencies = pd.DataFrame({\n",
        "    'Variable': columns_to_analyze,\n",
        "    'Mean': cartype_df[columns_to_analyze].mean(),\n",
        "    'Median': cartype_df[columns_to_analyze].median(),\n",
        "    'Mode': cartype_df[columns_to_analyze].mode().iloc[0],  # Calculate mode\n",
        "})\n",
        "\n",
        "# Round the values to 2 decimal places\n",
        "central_tendencies = central_tendencies.round(2)\n",
        "\n",
        "# Display the central tendencies table\n",
        "print(central_tendencies)\n"
      ],
      "metadata": {
        "colab": {
          "base_uri": "https://localhost:8080/"
        },
        "id": "hIL3lU0LwcQi",
        "outputId": "f616a0b7-334b-4faa-cde2-07eec02b1258"
      },
      "execution_count": null,
      "outputs": [
        {
          "output_type": "stream",
          "name": "stdout",
          "text": [
            "                Variable   Mean  Median  Mode\n",
            "City FE          City FE  20.09    19.5  17.0\n",
            "Highway FE    Highway FE  28.25    28.0  24.0\n",
            "Combined FE  Combined FE  23.04    23.0  18.0\n"
          ]
        }
      ]
    },
    {
      "cell_type": "code",
      "source": [
        "# Calculate the mean, median, mode for CO2\n",
        "columns_to_analyze = [\"City CO2\", \"Highway CO2\", \"Combined CO2\"]\n",
        "\n",
        "central_tendencies = pd.DataFrame({\n",
        "    'Variable': columns_to_analyze,\n",
        "    'Mean': cartype_df[columns_to_analyze].mean(),\n",
        "    'Median': cartype_df[columns_to_analyze].median(),\n",
        "    'Mode': cartype_df[columns_to_analyze].mode().iloc[0],  # Calculate mode\n",
        "})\n",
        "\n",
        "# Round the values to 2 decimal places\n",
        "central_tendencies = central_tendencies.round(2)\n",
        "\n",
        "# Display the central tendencies table\n",
        "print(central_tendencies)\n"
      ],
      "metadata": {
        "colab": {
          "base_uri": "https://localhost:8080/"
        },
        "outputId": "bc499d2d-75df-41cc-cd93-3c8f3b60bfaa",
        "id": "OVFJFwR7wq0U"
      },
      "execution_count": null,
      "outputs": [
        {
          "output_type": "stream",
          "name": "stdout",
          "text": [
            "                  Variable    Mean  Median   Mode\n",
            "City CO2          City CO2  470.17   453.5  352.0\n",
            "Highway CO2    Highway CO2  329.34   319.0  264.0\n",
            "Combined CO2  Combined CO2  406.75   393.0  340.0\n"
          ]
        }
      ]
    },
    {
      "cell_type": "markdown",
      "source": [
        "# **5. Inferential Statistics**"
      ],
      "metadata": {
        "id": "K-vZWjs9zrt6"
      }
    },
    {
      "cell_type": "markdown",
      "source": [
        "##**5.1 Spearman's correlation between Combined FE vs CO2**\n",
        "* To examine overall strengths and relationship between combined FE and CO2, help to establish the overall expectations about the dataset."
      ],
      "metadata": {
        "id": "4OHW9qh423_U"
      }
    },
    {
      "cell_type": "code",
      "source": [
        "# Extract the data for Combined FE and Combined CO2\n",
        "combined_FE = cartype_df['Combined FE']\n",
        "combined_CO2 = cartype_df['Combined CO2']\n",
        "\n",
        "# Perform the Pearson correlation analysis\n",
        "correlation_coefficient, p_value = stats.pearsonr(combined_FE, combined_CO2)\n",
        "\n",
        "# Create a scatterplot to visualize the correlation\n",
        "plt.figure(figsize=(8, 6))\n",
        "plt.scatter(combined_FE, combined_CO2, color='blue', alpha=0.6)\n",
        "plt.xlabel(\"Combined FE\")\n",
        "plt.ylabel(\"Combined CO2\")\n",
        "plt.title(\"Scatterplot of Combined FE vs. Combined CO2\\nCorrelation Coefficient: {:.5f}\".format(correlation_coefficient))\n",
        "plt.grid(True)\n",
        "plt.show()\n",
        "\n",
        "# Print the correlation coefficient and p-value\n",
        "print(\"Pearson Correlation Coefficient: {:.5f}\".format(correlation_coefficient))\n",
        "print(\"P-value: {:.5f}\".format(p_value))\n"
      ],
      "metadata": {
        "colab": {
          "base_uri": "https://localhost:8080/",
          "height": 620
        },
        "id": "uYbmo6F01XWK",
        "outputId": "7cb855f5-db0f-4125-8ce2-beee4f2d5ad4"
      },
      "execution_count": null,
      "outputs": [
        {
          "output_type": "display_data",
          "data": {
            "text/plain": [
              "<Figure size 800x600 with 1 Axes>"
            ],
            "image/png": "[encoded data removed]"
          },
          "metadata": {}
        },
        {
          "output_type": "stream",
          "name": "stdout",
          "text": [
            "Pearson Correlation Coefficient: -0.94290\n",
            "P-value: 0.00000\n"
          ]
        }
      ]
    },
    {
      "cell_type": "markdown",
      "source": [
        "Spearman’s correlation shows a strong negative correlation at -0.9429 between Combined FE and Combined CO2. This result suggests that higher miles per gallon should produce less CO2 (gallons per mile), which is in line to the purpose of the study, and technology in sustainability effort. In contrast, higher CO2 also means respective car model is lower in FE."
      ],
      "metadata": {
        "id": "IfIkSkpY2eHt"
      }
    },
    {
      "cell_type": "markdown",
      "source": [
        "# **5.2.1 Hypothesis #1**\n",
        "\n",
        "**H₀:\tFuel economy of a car model is not impacted by the car cylinders specifications variations.**\n",
        "\n",
        "**H₁: \tCar cylinders specifications variation significantly determine the fuel economy of a car model.**"
      ],
      "metadata": {
        "id": "tEmUzso83f3G"
      }
    },
    {
      "cell_type": "markdown",
      "source": [
        "This hypothesis tries to examine whether cylinders specifications affect the combined FE in a car model. Conclusion will be drawn based on pre-determined p-value at 0.05.\n",
        "\n",
        "Non-parametric test Kruskal-Wallis test is used as data are not normally distributed and no normality is assumed."
      ],
      "metadata": {
        "id": "VlwgfatA48xD"
      }
    },
    {
      "cell_type": "code",
      "source": [
        "# Testing variable groups\n",
        "group_1 = (cartype_df['Combined FE'])\n",
        "group_2 = (cartype_df['# Cylinders'])\n",
        "\n",
        "# Perform the Kruskal-Wallis test\n",
        "statistic, p_value = stats.kruskal(group_1, group_2)\n",
        "\n",
        "print(\"Kruskal-Wallis Test Statistic:\", statistic)\n",
        "print(\"P-value:\", p_value)\n",
        "\n",
        "# Check if the result is statistically significant @ significance level 0.05\n",
        "alpha = 0.05\n",
        "if p_value < alpha:\n",
        "    print(\"Reject the null hypothesis - There is a significant difference between groups.\")\n",
        "else:\n",
        "    print(\"Fail to reject the null hypothesis - There is no significant difference between groups.\")"
      ],
      "metadata": {
        "colab": {
          "base_uri": "https://localhost:8080/"
        },
        "id": "0OmjBUvd7goX",
        "outputId": "adf5eca2-d0c1-4bae-e003-cdaf7e0579c8"
      },
      "execution_count": null,
      "outputs": [
        {
          "output_type": "stream",
          "name": "stdout",
          "text": [
            "Kruskal-Wallis Test Statistic: 1099.4177765811494\n",
            "P-value: 4.420055456661784e-241\n",
            "Reject the null hypothesis - There is a significant difference between groups.\n"
          ]
        }
      ]
    },
    {
      "cell_type": "markdown",
      "source": [
        "**Conclusion:**\n",
        "\n",
        "Number of cylinders impact on the FE, the less the number of cylinders, it is  positively affecting the FE with higher rating combined FE in a car model. Car models with 16 cylinders are conversely has lower combined FE rating (opposite direction). The result suggests rejecting Null hypothesis (H₀) as p value <0.05."
      ],
      "metadata": {
        "id": "PJIYzEtS7vkM"
      }
    },
    {
      "cell_type": "markdown",
      "source": [
        "# **5.2.2 Hypothesis #2**"
      ],
      "metadata": {
        "id": "4xfnb1AZ8MV9"
      }
    },
    {
      "cell_type": "markdown",
      "source": [
        "**H₀: \tThe level of greenhouse gas (CO2) releases remains similar regardless of the engine displacements in a car.**\n",
        "\n",
        "**H₁:  \tEngine displacements have an impact to greenhouse gas (CO2) emissions.**\n"
      ],
      "metadata": {
        "id": "n0HIGFit80g8"
      }
    },
    {
      "cell_type": "markdown",
      "source": [
        "This hypothesis tries to examine whether engine displacements affect the CO2 emissions in a car model. Conclusion will be drawn based on pre-determined p-value at 0.05.\n",
        "\n",
        "Non-parametric test: Spearman's rank-order correlation is used as data are not normally distributed and no normality is assumed."
      ],
      "metadata": {
        "id": "WAQXakDf82_8"
      }
    },
    {
      "cell_type": "code",
      "source": [
        "# Testing variables\n",
        "engine_displacements = (cartype_df['Engine Displacement'])\n",
        "combined_co2 = (cartype_df['Combined CO2'])\n",
        "\n",
        "# Perform Spearman's correlation\n",
        "correlation, p_value = stats.spearmanr(engine_displacements, combined_co2)\n",
        "\n",
        "print(\"Spearman's Correlation Coefficient:\", correlation)\n",
        "print(\"P-value:\", p_value)\n",
        "\n",
        "# Check if the result is statistically significant @ significance level 0.05\n",
        "alpha = 0.05\n",
        "if p_value < alpha:\n",
        "    print(\"There is a significant correlation between engine displacements and Combined CO2 emissions.\")\n",
        "else:\n",
        "    print(\"There is no significant correlation between engine displacements and Combined CO2 emissions.\")"
      ],
      "metadata": {
        "colab": {
          "base_uri": "https://localhost:8080/"
        },
        "id": "oxBzt-m38mcs",
        "outputId": "b906957b-228c-449d-a586-10a632446057"
      },
      "execution_count": null,
      "outputs": [
        {
          "output_type": "stream",
          "name": "stdout",
          "text": [
            "Spearman's Correlation Coefficient: 0.8881341831981076\n",
            "P-value: 2.675312720636327e-245\n",
            "There is a significant correlation between engine displacements and Combined CO2 emissions.\n"
          ]
        }
      ]
    },
    {
      "cell_type": "markdown",
      "source": [
        "As a result, cars with less engine displacements produce lower CO2 and the more engine displacements the higher the CO2 emissions. The result from Spearman's rank order test suggests rejecting Null hypothesis (H₀)."
      ],
      "metadata": {
        "id": "JgVImE9C-ho0"
      }
    },
    {
      "cell_type": "markdown",
      "source": [
        "# **6.0 Conclusion**\n",
        "As a conclusion, the dataset studies focus on FE and CO2 rating in automotive sector. Cartype dataset aims to be the guidance for consumers when they decide to purchase a car (EPA&DOE, 2023). Automotive sector is a technology led sector, and technology brings advancement in constructions and building of the engine displacement, cylinders, air aspiration method in a carline, with cost efficiency and sustainability in mind. Continuous investments in research and development by car manufacturers in cylinders, transmissions technology supports the improvement in FE, which reduces the CO2 emissions.\n",
        "\n"
      ],
      "metadata": {
        "id": "0ozdbknU_QeA"
      }
    }
  ]
}